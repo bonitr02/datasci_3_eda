{
  "nbformat": 4,
  "nbformat_minor": 0,
  "metadata": {
    "colab": {
      "provenance": [],
      "collapsed_sections": [
        "d_wNls9RzRKz",
        "Pp7NB_7etZ93",
        "MHVji6JVVxZa",
        "3PElPn9FQqRE",
        "1z5352t3WHd1",
        "PINdhQwhBCuA",
        "3d4PumlOQsJT"
      ],
      "authorship_tag": "ABX9TyNhXedTF9zcH2YzCjW9fHmZ",
      "include_colab_link": true
    },
    "kernelspec": {
      "name": "python3",
      "display_name": "Python 3"
    },
    "language_info": {
      "name": "python"
    },
    "widgets": {
      "application/vnd.jupyter.widget-state+json": {
        "bf3d2bc1afde467a8cd263d6b86d0928": {
          "model_module": "@jupyter-widgets/controls",
          "model_name": "HBoxModel",
          "model_module_version": "1.5.0",
          "state": {
            "_dom_classes": [],
            "_model_module": "@jupyter-widgets/controls",
            "_model_module_version": "1.5.0",
            "_model_name": "HBoxModel",
            "_view_count": null,
            "_view_module": "@jupyter-widgets/controls",
            "_view_module_version": "1.5.0",
            "_view_name": "HBoxView",
            "box_style": "",
            "children": [
              "IPY_MODEL_cdced4addcfd41faa3afdbab4646ac0c",
              "IPY_MODEL_6ed17a84f5df49d3b43bc1bf5d9c64a2",
              "IPY_MODEL_f563b5dc1a97498f89fd7c378ee4c026"
            ],
            "layout": "IPY_MODEL_0028d13a7ff44655aa6201e2588bd362"
          }
        },
        "cdced4addcfd41faa3afdbab4646ac0c": {
          "model_module": "@jupyter-widgets/controls",
          "model_name": "HTMLModel",
          "model_module_version": "1.5.0",
          "state": {
            "_dom_classes": [],
            "_model_module": "@jupyter-widgets/controls",
            "_model_module_version": "1.5.0",
            "_model_name": "HTMLModel",
            "_view_count": null,
            "_view_module": "@jupyter-widgets/controls",
            "_view_module_version": "1.5.0",
            "_view_name": "HTMLView",
            "description": "",
            "description_tooltip": null,
            "layout": "IPY_MODEL_1a051f6aff8d43f7a965b2068c890c1e",
            "placeholder": "​",
            "style": "IPY_MODEL_22b85978dfbd4f8c9eccba8c8294f20a",
            "value": "Summarize dataset: 100%"
          }
        },
        "6ed17a84f5df49d3b43bc1bf5d9c64a2": {
          "model_module": "@jupyter-widgets/controls",
          "model_name": "FloatProgressModel",
          "model_module_version": "1.5.0",
          "state": {
            "_dom_classes": [],
            "_model_module": "@jupyter-widgets/controls",
            "_model_module_version": "1.5.0",
            "_model_name": "FloatProgressModel",
            "_view_count": null,
            "_view_module": "@jupyter-widgets/controls",
            "_view_module_version": "1.5.0",
            "_view_name": "ProgressView",
            "bar_style": "success",
            "description": "",
            "description_tooltip": null,
            "layout": "IPY_MODEL_42f33de6c80743788428819e0e4f902d",
            "max": 5,
            "min": 0,
            "orientation": "horizontal",
            "style": "IPY_MODEL_91cb950f434d4e41aea10157c970673d",
            "value": 5
          }
        },
        "f563b5dc1a97498f89fd7c378ee4c026": {
          "model_module": "@jupyter-widgets/controls",
          "model_name": "HTMLModel",
          "model_module_version": "1.5.0",
          "state": {
            "_dom_classes": [],
            "_model_module": "@jupyter-widgets/controls",
            "_model_module_version": "1.5.0",
            "_model_name": "HTMLModel",
            "_view_count": null,
            "_view_module": "@jupyter-widgets/controls",
            "_view_module_version": "1.5.0",
            "_view_name": "HTMLView",
            "description": "",
            "description_tooltip": null,
            "layout": "IPY_MODEL_ef868accf2744807bd99c8e9d8524284",
            "placeholder": "​",
            "style": "IPY_MODEL_842fba9ce18d43afbdb43072c5919553",
            "value": " 150/150 [00:39&lt;00:00,  2.99it/s, Completed]"
          }
        },
        "0028d13a7ff44655aa6201e2588bd362": {
          "model_module": "@jupyter-widgets/base",
          "model_name": "LayoutModel",
          "model_module_version": "1.2.0",
          "state": {
            "_model_module": "@jupyter-widgets/base",
            "_model_module_version": "1.2.0",
            "_model_name": "LayoutModel",
            "_view_count": null,
            "_view_module": "@jupyter-widgets/base",
            "_view_module_version": "1.2.0",
            "_view_name": "LayoutView",
            "align_content": null,
            "align_items": null,
            "align_self": null,
            "border": null,
            "bottom": null,
            "display": null,
            "flex": null,
            "flex_flow": null,
            "grid_area": null,
            "grid_auto_columns": null,
            "grid_auto_flow": null,
            "grid_auto_rows": null,
            "grid_column": null,
            "grid_gap": null,
            "grid_row": null,
            "grid_template_areas": null,
            "grid_template_columns": null,
            "grid_template_rows": null,
            "height": null,
            "justify_content": null,
            "justify_items": null,
            "left": null,
            "margin": null,
            "max_height": null,
            "max_width": null,
            "min_height": null,
            "min_width": null,
            "object_fit": null,
            "object_position": null,
            "order": null,
            "overflow": null,
            "overflow_x": null,
            "overflow_y": null,
            "padding": null,
            "right": null,
            "top": null,
            "visibility": null,
            "width": null
          }
        },
        "1a051f6aff8d43f7a965b2068c890c1e": {
          "model_module": "@jupyter-widgets/base",
          "model_name": "LayoutModel",
          "model_module_version": "1.2.0",
          "state": {
            "_model_module": "@jupyter-widgets/base",
            "_model_module_version": "1.2.0",
            "_model_name": "LayoutModel",
            "_view_count": null,
            "_view_module": "@jupyter-widgets/base",
            "_view_module_version": "1.2.0",
            "_view_name": "LayoutView",
            "align_content": null,
            "align_items": null,
            "align_self": null,
            "border": null,
            "bottom": null,
            "display": null,
            "flex": null,
            "flex_flow": null,
            "grid_area": null,
            "grid_auto_columns": null,
            "grid_auto_flow": null,
            "grid_auto_rows": null,
            "grid_column": null,
            "grid_gap": null,
            "grid_row": null,
            "grid_template_areas": null,
            "grid_template_columns": null,
            "grid_template_rows": null,
            "height": null,
            "justify_content": null,
            "justify_items": null,
            "left": null,
            "margin": null,
            "max_height": null,
            "max_width": null,
            "min_height": null,
            "min_width": null,
            "object_fit": null,
            "object_position": null,
            "order": null,
            "overflow": null,
            "overflow_x": null,
            "overflow_y": null,
            "padding": null,
            "right": null,
            "top": null,
            "visibility": null,
            "width": null
          }
        },
        "22b85978dfbd4f8c9eccba8c8294f20a": {
          "model_module": "@jupyter-widgets/controls",
          "model_name": "DescriptionStyleModel",
          "model_module_version": "1.5.0",
          "state": {
            "_model_module": "@jupyter-widgets/controls",
            "_model_module_version": "1.5.0",
            "_model_name": "DescriptionStyleModel",
            "_view_count": null,
            "_view_module": "@jupyter-widgets/base",
            "_view_module_version": "1.2.0",
            "_view_name": "StyleView",
            "description_width": ""
          }
        },
        "42f33de6c80743788428819e0e4f902d": {
          "model_module": "@jupyter-widgets/base",
          "model_name": "LayoutModel",
          "model_module_version": "1.2.0",
          "state": {
            "_model_module": "@jupyter-widgets/base",
            "_model_module_version": "1.2.0",
            "_model_name": "LayoutModel",
            "_view_count": null,
            "_view_module": "@jupyter-widgets/base",
            "_view_module_version": "1.2.0",
            "_view_name": "LayoutView",
            "align_content": null,
            "align_items": null,
            "align_self": null,
            "border": null,
            "bottom": null,
            "display": null,
            "flex": null,
            "flex_flow": null,
            "grid_area": null,
            "grid_auto_columns": null,
            "grid_auto_flow": null,
            "grid_auto_rows": null,
            "grid_column": null,
            "grid_gap": null,
            "grid_row": null,
            "grid_template_areas": null,
            "grid_template_columns": null,
            "grid_template_rows": null,
            "height": null,
            "justify_content": null,
            "justify_items": null,
            "left": null,
            "margin": null,
            "max_height": null,
            "max_width": null,
            "min_height": null,
            "min_width": null,
            "object_fit": null,
            "object_position": null,
            "order": null,
            "overflow": null,
            "overflow_x": null,
            "overflow_y": null,
            "padding": null,
            "right": null,
            "top": null,
            "visibility": null,
            "width": null
          }
        },
        "91cb950f434d4e41aea10157c970673d": {
          "model_module": "@jupyter-widgets/controls",
          "model_name": "ProgressStyleModel",
          "model_module_version": "1.5.0",
          "state": {
            "_model_module": "@jupyter-widgets/controls",
            "_model_module_version": "1.5.0",
            "_model_name": "ProgressStyleModel",
            "_view_count": null,
            "_view_module": "@jupyter-widgets/base",
            "_view_module_version": "1.2.0",
            "_view_name": "StyleView",
            "bar_color": null,
            "description_width": ""
          }
        },
        "ef868accf2744807bd99c8e9d8524284": {
          "model_module": "@jupyter-widgets/base",
          "model_name": "LayoutModel",
          "model_module_version": "1.2.0",
          "state": {
            "_model_module": "@jupyter-widgets/base",
            "_model_module_version": "1.2.0",
            "_model_name": "LayoutModel",
            "_view_count": null,
            "_view_module": "@jupyter-widgets/base",
            "_view_module_version": "1.2.0",
            "_view_name": "LayoutView",
            "align_content": null,
            "align_items": null,
            "align_self": null,
            "border": null,
            "bottom": null,
            "display": null,
            "flex": null,
            "flex_flow": null,
            "grid_area": null,
            "grid_auto_columns": null,
            "grid_auto_flow": null,
            "grid_auto_rows": null,
            "grid_column": null,
            "grid_gap": null,
            "grid_row": null,
            "grid_template_areas": null,
            "grid_template_columns": null,
            "grid_template_rows": null,
            "height": null,
            "justify_content": null,
            "justify_items": null,
            "left": null,
            "margin": null,
            "max_height": null,
            "max_width": null,
            "min_height": null,
            "min_width": null,
            "object_fit": null,
            "object_position": null,
            "order": null,
            "overflow": null,
            "overflow_x": null,
            "overflow_y": null,
            "padding": null,
            "right": null,
            "top": null,
            "visibility": null,
            "width": null
          }
        },
        "842fba9ce18d43afbdb43072c5919553": {
          "model_module": "@jupyter-widgets/controls",
          "model_name": "DescriptionStyleModel",
          "model_module_version": "1.5.0",
          "state": {
            "_model_module": "@jupyter-widgets/controls",
            "_model_module_version": "1.5.0",
            "_model_name": "DescriptionStyleModel",
            "_view_count": null,
            "_view_module": "@jupyter-widgets/base",
            "_view_module_version": "1.2.0",
            "_view_name": "StyleView",
            "description_width": ""
          }
        },
        "f2b07d2e87a54db4a447216b453069f7": {
          "model_module": "@jupyter-widgets/controls",
          "model_name": "HBoxModel",
          "model_module_version": "1.5.0",
          "state": {
            "_dom_classes": [],
            "_model_module": "@jupyter-widgets/controls",
            "_model_module_version": "1.5.0",
            "_model_name": "HBoxModel",
            "_view_count": null,
            "_view_module": "@jupyter-widgets/controls",
            "_view_module_version": "1.5.0",
            "_view_name": "HBoxView",
            "box_style": "",
            "children": [
              "IPY_MODEL_198b70d2159b473181f061999dc2c842",
              "IPY_MODEL_ca168b55ace04cb99b6e66b9e54ece42",
              "IPY_MODEL_15c43f5ef7cb4c46b2e9e93dcfda504a"
            ],
            "layout": "IPY_MODEL_e6b478fc2a594282bb673b698c81eac2"
          }
        },
        "198b70d2159b473181f061999dc2c842": {
          "model_module": "@jupyter-widgets/controls",
          "model_name": "HTMLModel",
          "model_module_version": "1.5.0",
          "state": {
            "_dom_classes": [],
            "_model_module": "@jupyter-widgets/controls",
            "_model_module_version": "1.5.0",
            "_model_name": "HTMLModel",
            "_view_count": null,
            "_view_module": "@jupyter-widgets/controls",
            "_view_module_version": "1.5.0",
            "_view_name": "HTMLView",
            "description": "",
            "description_tooltip": null,
            "layout": "IPY_MODEL_34b07a7261dc4856b1fec00260d5031c",
            "placeholder": "​",
            "style": "IPY_MODEL_2d918cb8bec549ceb79d1128737f779e",
            "value": "Generate report structure: 100%"
          }
        },
        "ca168b55ace04cb99b6e66b9e54ece42": {
          "model_module": "@jupyter-widgets/controls",
          "model_name": "FloatProgressModel",
          "model_module_version": "1.5.0",
          "state": {
            "_dom_classes": [],
            "_model_module": "@jupyter-widgets/controls",
            "_model_module_version": "1.5.0",
            "_model_name": "FloatProgressModel",
            "_view_count": null,
            "_view_module": "@jupyter-widgets/controls",
            "_view_module_version": "1.5.0",
            "_view_name": "ProgressView",
            "bar_style": "success",
            "description": "",
            "description_tooltip": null,
            "layout": "IPY_MODEL_bf7e9a940d7c4e39944983ff66cd91f8",
            "max": 1,
            "min": 0,
            "orientation": "horizontal",
            "style": "IPY_MODEL_6c1dd4ea9cb24327a4760daddd3af502",
            "value": 1
          }
        },
        "15c43f5ef7cb4c46b2e9e93dcfda504a": {
          "model_module": "@jupyter-widgets/controls",
          "model_name": "HTMLModel",
          "model_module_version": "1.5.0",
          "state": {
            "_dom_classes": [],
            "_model_module": "@jupyter-widgets/controls",
            "_model_module_version": "1.5.0",
            "_model_name": "HTMLModel",
            "_view_count": null,
            "_view_module": "@jupyter-widgets/controls",
            "_view_module_version": "1.5.0",
            "_view_name": "HTMLView",
            "description": "",
            "description_tooltip": null,
            "layout": "IPY_MODEL_fe340a7c04a845379d13b1df28f45197",
            "placeholder": "​",
            "style": "IPY_MODEL_e7f5944aafd542e8974c3dc8d829c14f",
            "value": " 1/1 [00:11&lt;00:00, 11.48s/it]"
          }
        },
        "e6b478fc2a594282bb673b698c81eac2": {
          "model_module": "@jupyter-widgets/base",
          "model_name": "LayoutModel",
          "model_module_version": "1.2.0",
          "state": {
            "_model_module": "@jupyter-widgets/base",
            "_model_module_version": "1.2.0",
            "_model_name": "LayoutModel",
            "_view_count": null,
            "_view_module": "@jupyter-widgets/base",
            "_view_module_version": "1.2.0",
            "_view_name": "LayoutView",
            "align_content": null,
            "align_items": null,
            "align_self": null,
            "border": null,
            "bottom": null,
            "display": null,
            "flex": null,
            "flex_flow": null,
            "grid_area": null,
            "grid_auto_columns": null,
            "grid_auto_flow": null,
            "grid_auto_rows": null,
            "grid_column": null,
            "grid_gap": null,
            "grid_row": null,
            "grid_template_areas": null,
            "grid_template_columns": null,
            "grid_template_rows": null,
            "height": null,
            "justify_content": null,
            "justify_items": null,
            "left": null,
            "margin": null,
            "max_height": null,
            "max_width": null,
            "min_height": null,
            "min_width": null,
            "object_fit": null,
            "object_position": null,
            "order": null,
            "overflow": null,
            "overflow_x": null,
            "overflow_y": null,
            "padding": null,
            "right": null,
            "top": null,
            "visibility": null,
            "width": null
          }
        },
        "34b07a7261dc4856b1fec00260d5031c": {
          "model_module": "@jupyter-widgets/base",
          "model_name": "LayoutModel",
          "model_module_version": "1.2.0",
          "state": {
            "_model_module": "@jupyter-widgets/base",
            "_model_module_version": "1.2.0",
            "_model_name": "LayoutModel",
            "_view_count": null,
            "_view_module": "@jupyter-widgets/base",
            "_view_module_version": "1.2.0",
            "_view_name": "LayoutView",
            "align_content": null,
            "align_items": null,
            "align_self": null,
            "border": null,
            "bottom": null,
            "display": null,
            "flex": null,
            "flex_flow": null,
            "grid_area": null,
            "grid_auto_columns": null,
            "grid_auto_flow": null,
            "grid_auto_rows": null,
            "grid_column": null,
            "grid_gap": null,
            "grid_row": null,
            "grid_template_areas": null,
            "grid_template_columns": null,
            "grid_template_rows": null,
            "height": null,
            "justify_content": null,
            "justify_items": null,
            "left": null,
            "margin": null,
            "max_height": null,
            "max_width": null,
            "min_height": null,
            "min_width": null,
            "object_fit": null,
            "object_position": null,
            "order": null,
            "overflow": null,
            "overflow_x": null,
            "overflow_y": null,
            "padding": null,
            "right": null,
            "top": null,
            "visibility": null,
            "width": null
          }
        },
        "2d918cb8bec549ceb79d1128737f779e": {
          "model_module": "@jupyter-widgets/controls",
          "model_name": "DescriptionStyleModel",
          "model_module_version": "1.5.0",
          "state": {
            "_model_module": "@jupyter-widgets/controls",
            "_model_module_version": "1.5.0",
            "_model_name": "DescriptionStyleModel",
            "_view_count": null,
            "_view_module": "@jupyter-widgets/base",
            "_view_module_version": "1.2.0",
            "_view_name": "StyleView",
            "description_width": ""
          }
        },
        "bf7e9a940d7c4e39944983ff66cd91f8": {
          "model_module": "@jupyter-widgets/base",
          "model_name": "LayoutModel",
          "model_module_version": "1.2.0",
          "state": {
            "_model_module": "@jupyter-widgets/base",
            "_model_module_version": "1.2.0",
            "_model_name": "LayoutModel",
            "_view_count": null,
            "_view_module": "@jupyter-widgets/base",
            "_view_module_version": "1.2.0",
            "_view_name": "LayoutView",
            "align_content": null,
            "align_items": null,
            "align_self": null,
            "border": null,
            "bottom": null,
            "display": null,
            "flex": null,
            "flex_flow": null,
            "grid_area": null,
            "grid_auto_columns": null,
            "grid_auto_flow": null,
            "grid_auto_rows": null,
            "grid_column": null,
            "grid_gap": null,
            "grid_row": null,
            "grid_template_areas": null,
            "grid_template_columns": null,
            "grid_template_rows": null,
            "height": null,
            "justify_content": null,
            "justify_items": null,
            "left": null,
            "margin": null,
            "max_height": null,
            "max_width": null,
            "min_height": null,
            "min_width": null,
            "object_fit": null,
            "object_position": null,
            "order": null,
            "overflow": null,
            "overflow_x": null,
            "overflow_y": null,
            "padding": null,
            "right": null,
            "top": null,
            "visibility": null,
            "width": null
          }
        },
        "6c1dd4ea9cb24327a4760daddd3af502": {
          "model_module": "@jupyter-widgets/controls",
          "model_name": "ProgressStyleModel",
          "model_module_version": "1.5.0",
          "state": {
            "_model_module": "@jupyter-widgets/controls",
            "_model_module_version": "1.5.0",
            "_model_name": "ProgressStyleModel",
            "_view_count": null,
            "_view_module": "@jupyter-widgets/base",
            "_view_module_version": "1.2.0",
            "_view_name": "StyleView",
            "bar_color": null,
            "description_width": ""
          }
        },
        "fe340a7c04a845379d13b1df28f45197": {
          "model_module": "@jupyter-widgets/base",
          "model_name": "LayoutModel",
          "model_module_version": "1.2.0",
          "state": {
            "_model_module": "@jupyter-widgets/base",
            "_model_module_version": "1.2.0",
            "_model_name": "LayoutModel",
            "_view_count": null,
            "_view_module": "@jupyter-widgets/base",
            "_view_module_version": "1.2.0",
            "_view_name": "LayoutView",
            "align_content": null,
            "align_items": null,
            "align_self": null,
            "border": null,
            "bottom": null,
            "display": null,
            "flex": null,
            "flex_flow": null,
            "grid_area": null,
            "grid_auto_columns": null,
            "grid_auto_flow": null,
            "grid_auto_rows": null,
            "grid_column": null,
            "grid_gap": null,
            "grid_row": null,
            "grid_template_areas": null,
            "grid_template_columns": null,
            "grid_template_rows": null,
            "height": null,
            "justify_content": null,
            "justify_items": null,
            "left": null,
            "margin": null,
            "max_height": null,
            "max_width": null,
            "min_height": null,
            "min_width": null,
            "object_fit": null,
            "object_position": null,
            "order": null,
            "overflow": null,
            "overflow_x": null,
            "overflow_y": null,
            "padding": null,
            "right": null,
            "top": null,
            "visibility": null,
            "width": null
          }
        },
        "e7f5944aafd542e8974c3dc8d829c14f": {
          "model_module": "@jupyter-widgets/controls",
          "model_name": "DescriptionStyleModel",
          "model_module_version": "1.5.0",
          "state": {
            "_model_module": "@jupyter-widgets/controls",
            "_model_module_version": "1.5.0",
            "_model_name": "DescriptionStyleModel",
            "_view_count": null,
            "_view_module": "@jupyter-widgets/base",
            "_view_module_version": "1.2.0",
            "_view_name": "StyleView",
            "description_width": ""
          }
        },
        "a58b5500ce224dfe8bbbe680eb6c6104": {
          "model_module": "@jupyter-widgets/controls",
          "model_name": "HBoxModel",
          "model_module_version": "1.5.0",
          "state": {
            "_dom_classes": [],
            "_model_module": "@jupyter-widgets/controls",
            "_model_module_version": "1.5.0",
            "_model_name": "HBoxModel",
            "_view_count": null,
            "_view_module": "@jupyter-widgets/controls",
            "_view_module_version": "1.5.0",
            "_view_name": "HBoxView",
            "box_style": "",
            "children": [
              "IPY_MODEL_dc317e92bae84f478b9703f2b67ed1a8",
              "IPY_MODEL_6f4746fcaf6542189d1d5b97a66b7fac",
              "IPY_MODEL_ff0f651f61b64c4aab8aa190cbc0e709"
            ],
            "layout": "IPY_MODEL_ee4604c4c19344c8bacb014d4d288286"
          }
        },
        "dc317e92bae84f478b9703f2b67ed1a8": {
          "model_module": "@jupyter-widgets/controls",
          "model_name": "HTMLModel",
          "model_module_version": "1.5.0",
          "state": {
            "_dom_classes": [],
            "_model_module": "@jupyter-widgets/controls",
            "_model_module_version": "1.5.0",
            "_model_name": "HTMLModel",
            "_view_count": null,
            "_view_module": "@jupyter-widgets/controls",
            "_view_module_version": "1.5.0",
            "_view_name": "HTMLView",
            "description": "",
            "description_tooltip": null,
            "layout": "IPY_MODEL_4893f7d030dd4f45b437976ef749ffe3",
            "placeholder": "​",
            "style": "IPY_MODEL_aedd51d1b2334fc099c48bfd0bc12da3",
            "value": "Render HTML: 100%"
          }
        },
        "6f4746fcaf6542189d1d5b97a66b7fac": {
          "model_module": "@jupyter-widgets/controls",
          "model_name": "FloatProgressModel",
          "model_module_version": "1.5.0",
          "state": {
            "_dom_classes": [],
            "_model_module": "@jupyter-widgets/controls",
            "_model_module_version": "1.5.0",
            "_model_name": "FloatProgressModel",
            "_view_count": null,
            "_view_module": "@jupyter-widgets/controls",
            "_view_module_version": "1.5.0",
            "_view_name": "ProgressView",
            "bar_style": "success",
            "description": "",
            "description_tooltip": null,
            "layout": "IPY_MODEL_ca225cf563234129b0c20b2661648fb4",
            "max": 1,
            "min": 0,
            "orientation": "horizontal",
            "style": "IPY_MODEL_887d19bce2694d92aa78606f2305864f",
            "value": 1
          }
        },
        "ff0f651f61b64c4aab8aa190cbc0e709": {
          "model_module": "@jupyter-widgets/controls",
          "model_name": "HTMLModel",
          "model_module_version": "1.5.0",
          "state": {
            "_dom_classes": [],
            "_model_module": "@jupyter-widgets/controls",
            "_model_module_version": "1.5.0",
            "_model_name": "HTMLModel",
            "_view_count": null,
            "_view_module": "@jupyter-widgets/controls",
            "_view_module_version": "1.5.0",
            "_view_name": "HTMLView",
            "description": "",
            "description_tooltip": null,
            "layout": "IPY_MODEL_ec95b6502d114de18873365ead8506b6",
            "placeholder": "​",
            "style": "IPY_MODEL_2ee27ee5ebe745a0950931f98f18fd0f",
            "value": " 1/1 [00:04&lt;00:00,  4.40s/it]"
          }
        },
        "ee4604c4c19344c8bacb014d4d288286": {
          "model_module": "@jupyter-widgets/base",
          "model_name": "LayoutModel",
          "model_module_version": "1.2.0",
          "state": {
            "_model_module": "@jupyter-widgets/base",
            "_model_module_version": "1.2.0",
            "_model_name": "LayoutModel",
            "_view_count": null,
            "_view_module": "@jupyter-widgets/base",
            "_view_module_version": "1.2.0",
            "_view_name": "LayoutView",
            "align_content": null,
            "align_items": null,
            "align_self": null,
            "border": null,
            "bottom": null,
            "display": null,
            "flex": null,
            "flex_flow": null,
            "grid_area": null,
            "grid_auto_columns": null,
            "grid_auto_flow": null,
            "grid_auto_rows": null,
            "grid_column": null,
            "grid_gap": null,
            "grid_row": null,
            "grid_template_areas": null,
            "grid_template_columns": null,
            "grid_template_rows": null,
            "height": null,
            "justify_content": null,
            "justify_items": null,
            "left": null,
            "margin": null,
            "max_height": null,
            "max_width": null,
            "min_height": null,
            "min_width": null,
            "object_fit": null,
            "object_position": null,
            "order": null,
            "overflow": null,
            "overflow_x": null,
            "overflow_y": null,
            "padding": null,
            "right": null,
            "top": null,
            "visibility": null,
            "width": null
          }
        },
        "4893f7d030dd4f45b437976ef749ffe3": {
          "model_module": "@jupyter-widgets/base",
          "model_name": "LayoutModel",
          "model_module_version": "1.2.0",
          "state": {
            "_model_module": "@jupyter-widgets/base",
            "_model_module_version": "1.2.0",
            "_model_name": "LayoutModel",
            "_view_count": null,
            "_view_module": "@jupyter-widgets/base",
            "_view_module_version": "1.2.0",
            "_view_name": "LayoutView",
            "align_content": null,
            "align_items": null,
            "align_self": null,
            "border": null,
            "bottom": null,
            "display": null,
            "flex": null,
            "flex_flow": null,
            "grid_area": null,
            "grid_auto_columns": null,
            "grid_auto_flow": null,
            "grid_auto_rows": null,
            "grid_column": null,
            "grid_gap": null,
            "grid_row": null,
            "grid_template_areas": null,
            "grid_template_columns": null,
            "grid_template_rows": null,
            "height": null,
            "justify_content": null,
            "justify_items": null,
            "left": null,
            "margin": null,
            "max_height": null,
            "max_width": null,
            "min_height": null,
            "min_width": null,
            "object_fit": null,
            "object_position": null,
            "order": null,
            "overflow": null,
            "overflow_x": null,
            "overflow_y": null,
            "padding": null,
            "right": null,
            "top": null,
            "visibility": null,
            "width": null
          }
        },
        "aedd51d1b2334fc099c48bfd0bc12da3": {
          "model_module": "@jupyter-widgets/controls",
          "model_name": "DescriptionStyleModel",
          "model_module_version": "1.5.0",
          "state": {
            "_model_module": "@jupyter-widgets/controls",
            "_model_module_version": "1.5.0",
            "_model_name": "DescriptionStyleModel",
            "_view_count": null,
            "_view_module": "@jupyter-widgets/base",
            "_view_module_version": "1.2.0",
            "_view_name": "StyleView",
            "description_width": ""
          }
        },
        "ca225cf563234129b0c20b2661648fb4": {
          "model_module": "@jupyter-widgets/base",
          "model_name": "LayoutModel",
          "model_module_version": "1.2.0",
          "state": {
            "_model_module": "@jupyter-widgets/base",
            "_model_module_version": "1.2.0",
            "_model_name": "LayoutModel",
            "_view_count": null,
            "_view_module": "@jupyter-widgets/base",
            "_view_module_version": "1.2.0",
            "_view_name": "LayoutView",
            "align_content": null,
            "align_items": null,
            "align_self": null,
            "border": null,
            "bottom": null,
            "display": null,
            "flex": null,
            "flex_flow": null,
            "grid_area": null,
            "grid_auto_columns": null,
            "grid_auto_flow": null,
            "grid_auto_rows": null,
            "grid_column": null,
            "grid_gap": null,
            "grid_row": null,
            "grid_template_areas": null,
            "grid_template_columns": null,
            "grid_template_rows": null,
            "height": null,
            "justify_content": null,
            "justify_items": null,
            "left": null,
            "margin": null,
            "max_height": null,
            "max_width": null,
            "min_height": null,
            "min_width": null,
            "object_fit": null,
            "object_position": null,
            "order": null,
            "overflow": null,
            "overflow_x": null,
            "overflow_y": null,
            "padding": null,
            "right": null,
            "top": null,
            "visibility": null,
            "width": null
          }
        },
        "887d19bce2694d92aa78606f2305864f": {
          "model_module": "@jupyter-widgets/controls",
          "model_name": "ProgressStyleModel",
          "model_module_version": "1.5.0",
          "state": {
            "_model_module": "@jupyter-widgets/controls",
            "_model_module_version": "1.5.0",
            "_model_name": "ProgressStyleModel",
            "_view_count": null,
            "_view_module": "@jupyter-widgets/base",
            "_view_module_version": "1.2.0",
            "_view_name": "StyleView",
            "bar_color": null,
            "description_width": ""
          }
        },
        "ec95b6502d114de18873365ead8506b6": {
          "model_module": "@jupyter-widgets/base",
          "model_name": "LayoutModel",
          "model_module_version": "1.2.0",
          "state": {
            "_model_module": "@jupyter-widgets/base",
            "_model_module_version": "1.2.0",
            "_model_name": "LayoutModel",
            "_view_count": null,
            "_view_module": "@jupyter-widgets/base",
            "_view_module_version": "1.2.0",
            "_view_name": "LayoutView",
            "align_content": null,
            "align_items": null,
            "align_self": null,
            "border": null,
            "bottom": null,
            "display": null,
            "flex": null,
            "flex_flow": null,
            "grid_area": null,
            "grid_auto_columns": null,
            "grid_auto_flow": null,
            "grid_auto_rows": null,
            "grid_column": null,
            "grid_gap": null,
            "grid_row": null,
            "grid_template_areas": null,
            "grid_template_columns": null,
            "grid_template_rows": null,
            "height": null,
            "justify_content": null,
            "justify_items": null,
            "left": null,
            "margin": null,
            "max_height": null,
            "max_width": null,
            "min_height": null,
            "min_width": null,
            "object_fit": null,
            "object_position": null,
            "order": null,
            "overflow": null,
            "overflow_x": null,
            "overflow_y": null,
            "padding": null,
            "right": null,
            "top": null,
            "visibility": null,
            "width": null
          }
        },
        "2ee27ee5ebe745a0950931f98f18fd0f": {
          "model_module": "@jupyter-widgets/controls",
          "model_name": "DescriptionStyleModel",
          "model_module_version": "1.5.0",
          "state": {
            "_model_module": "@jupyter-widgets/controls",
            "_model_module_version": "1.5.0",
            "_model_name": "DescriptionStyleModel",
            "_view_count": null,
            "_view_module": "@jupyter-widgets/base",
            "_view_module_version": "1.2.0",
            "_view_name": "StyleView",
            "description_width": ""
          }
        },
        "89c05b3c30d84640be9886383e391a95": {
          "model_module": "@jupyter-widgets/controls",
          "model_name": "HBoxModel",
          "model_module_version": "1.5.0",
          "state": {
            "_dom_classes": [],
            "_model_module": "@jupyter-widgets/controls",
            "_model_module_version": "1.5.0",
            "_model_name": "HBoxModel",
            "_view_count": null,
            "_view_module": "@jupyter-widgets/controls",
            "_view_module_version": "1.5.0",
            "_view_name": "HBoxView",
            "box_style": "",
            "children": [
              "IPY_MODEL_3cffd634292d4af59da74a012fd6b803",
              "IPY_MODEL_0cd2b12e6a4740d38347351c4cdb1087",
              "IPY_MODEL_cec4386fbb5e403984eb83ebf4e17aea"
            ],
            "layout": "IPY_MODEL_8dbefacd2d7546e3bec3a5d373fcfc70"
          }
        },
        "3cffd634292d4af59da74a012fd6b803": {
          "model_module": "@jupyter-widgets/controls",
          "model_name": "HTMLModel",
          "model_module_version": "1.5.0",
          "state": {
            "_dom_classes": [],
            "_model_module": "@jupyter-widgets/controls",
            "_model_module_version": "1.5.0",
            "_model_name": "HTMLModel",
            "_view_count": null,
            "_view_module": "@jupyter-widgets/controls",
            "_view_module_version": "1.5.0",
            "_view_name": "HTMLView",
            "description": "",
            "description_tooltip": null,
            "layout": "IPY_MODEL_d8c30b1796af4e7e9a5e9585146bbe35",
            "placeholder": "​",
            "style": "IPY_MODEL_9672133e9d6341fdb401acf1943bb0db",
            "value": "Export report to file: 100%"
          }
        },
        "0cd2b12e6a4740d38347351c4cdb1087": {
          "model_module": "@jupyter-widgets/controls",
          "model_name": "FloatProgressModel",
          "model_module_version": "1.5.0",
          "state": {
            "_dom_classes": [],
            "_model_module": "@jupyter-widgets/controls",
            "_model_module_version": "1.5.0",
            "_model_name": "FloatProgressModel",
            "_view_count": null,
            "_view_module": "@jupyter-widgets/controls",
            "_view_module_version": "1.5.0",
            "_view_name": "ProgressView",
            "bar_style": "success",
            "description": "",
            "description_tooltip": null,
            "layout": "IPY_MODEL_af358aecec844303b0b7194902fcbee7",
            "max": 1,
            "min": 0,
            "orientation": "horizontal",
            "style": "IPY_MODEL_217e5ea13ead40dfbb51da2909d3ac2e",
            "value": 1
          }
        },
        "cec4386fbb5e403984eb83ebf4e17aea": {
          "model_module": "@jupyter-widgets/controls",
          "model_name": "HTMLModel",
          "model_module_version": "1.5.0",
          "state": {
            "_dom_classes": [],
            "_model_module": "@jupyter-widgets/controls",
            "_model_module_version": "1.5.0",
            "_model_name": "HTMLModel",
            "_view_count": null,
            "_view_module": "@jupyter-widgets/controls",
            "_view_module_version": "1.5.0",
            "_view_name": "HTMLView",
            "description": "",
            "description_tooltip": null,
            "layout": "IPY_MODEL_980061ce80734abbafbc54bca71cfe60",
            "placeholder": "​",
            "style": "IPY_MODEL_df7cf21ba62844cc98dca093c278ebe4",
            "value": " 1/1 [00:00&lt;00:00, 14.01it/s]"
          }
        },
        "8dbefacd2d7546e3bec3a5d373fcfc70": {
          "model_module": "@jupyter-widgets/base",
          "model_name": "LayoutModel",
          "model_module_version": "1.2.0",
          "state": {
            "_model_module": "@jupyter-widgets/base",
            "_model_module_version": "1.2.0",
            "_model_name": "LayoutModel",
            "_view_count": null,
            "_view_module": "@jupyter-widgets/base",
            "_view_module_version": "1.2.0",
            "_view_name": "LayoutView",
            "align_content": null,
            "align_items": null,
            "align_self": null,
            "border": null,
            "bottom": null,
            "display": null,
            "flex": null,
            "flex_flow": null,
            "grid_area": null,
            "grid_auto_columns": null,
            "grid_auto_flow": null,
            "grid_auto_rows": null,
            "grid_column": null,
            "grid_gap": null,
            "grid_row": null,
            "grid_template_areas": null,
            "grid_template_columns": null,
            "grid_template_rows": null,
            "height": null,
            "justify_content": null,
            "justify_items": null,
            "left": null,
            "margin": null,
            "max_height": null,
            "max_width": null,
            "min_height": null,
            "min_width": null,
            "object_fit": null,
            "object_position": null,
            "order": null,
            "overflow": null,
            "overflow_x": null,
            "overflow_y": null,
            "padding": null,
            "right": null,
            "top": null,
            "visibility": null,
            "width": null
          }
        },
        "d8c30b1796af4e7e9a5e9585146bbe35": {
          "model_module": "@jupyter-widgets/base",
          "model_name": "LayoutModel",
          "model_module_version": "1.2.0",
          "state": {
            "_model_module": "@jupyter-widgets/base",
            "_model_module_version": "1.2.0",
            "_model_name": "LayoutModel",
            "_view_count": null,
            "_view_module": "@jupyter-widgets/base",
            "_view_module_version": "1.2.0",
            "_view_name": "LayoutView",
            "align_content": null,
            "align_items": null,
            "align_self": null,
            "border": null,
            "bottom": null,
            "display": null,
            "flex": null,
            "flex_flow": null,
            "grid_area": null,
            "grid_auto_columns": null,
            "grid_auto_flow": null,
            "grid_auto_rows": null,
            "grid_column": null,
            "grid_gap": null,
            "grid_row": null,
            "grid_template_areas": null,
            "grid_template_columns": null,
            "grid_template_rows": null,
            "height": null,
            "justify_content": null,
            "justify_items": null,
            "left": null,
            "margin": null,
            "max_height": null,
            "max_width": null,
            "min_height": null,
            "min_width": null,
            "object_fit": null,
            "object_position": null,
            "order": null,
            "overflow": null,
            "overflow_x": null,
            "overflow_y": null,
            "padding": null,
            "right": null,
            "top": null,
            "visibility": null,
            "width": null
          }
        },
        "9672133e9d6341fdb401acf1943bb0db": {
          "model_module": "@jupyter-widgets/controls",
          "model_name": "DescriptionStyleModel",
          "model_module_version": "1.5.0",
          "state": {
            "_model_module": "@jupyter-widgets/controls",
            "_model_module_version": "1.5.0",
            "_model_name": "DescriptionStyleModel",
            "_view_count": null,
            "_view_module": "@jupyter-widgets/base",
            "_view_module_version": "1.2.0",
            "_view_name": "StyleView",
            "description_width": ""
          }
        },
        "af358aecec844303b0b7194902fcbee7": {
          "model_module": "@jupyter-widgets/base",
          "model_name": "LayoutModel",
          "model_module_version": "1.2.0",
          "state": {
            "_model_module": "@jupyter-widgets/base",
            "_model_module_version": "1.2.0",
            "_model_name": "LayoutModel",
            "_view_count": null,
            "_view_module": "@jupyter-widgets/base",
            "_view_module_version": "1.2.0",
            "_view_name": "LayoutView",
            "align_content": null,
            "align_items": null,
            "align_self": null,
            "border": null,
            "bottom": null,
            "display": null,
            "flex": null,
            "flex_flow": null,
            "grid_area": null,
            "grid_auto_columns": null,
            "grid_auto_flow": null,
            "grid_auto_rows": null,
            "grid_column": null,
            "grid_gap": null,
            "grid_row": null,
            "grid_template_areas": null,
            "grid_template_columns": null,
            "grid_template_rows": null,
            "height": null,
            "justify_content": null,
            "justify_items": null,
            "left": null,
            "margin": null,
            "max_height": null,
            "max_width": null,
            "min_height": null,
            "min_width": null,
            "object_fit": null,
            "object_position": null,
            "order": null,
            "overflow": null,
            "overflow_x": null,
            "overflow_y": null,
            "padding": null,
            "right": null,
            "top": null,
            "visibility": null,
            "width": null
          }
        },
        "217e5ea13ead40dfbb51da2909d3ac2e": {
          "model_module": "@jupyter-widgets/controls",
          "model_name": "ProgressStyleModel",
          "model_module_version": "1.5.0",
          "state": {
            "_model_module": "@jupyter-widgets/controls",
            "_model_module_version": "1.5.0",
            "_model_name": "ProgressStyleModel",
            "_view_count": null,
            "_view_module": "@jupyter-widgets/base",
            "_view_module_version": "1.2.0",
            "_view_name": "StyleView",
            "bar_color": null,
            "description_width": ""
          }
        },
        "980061ce80734abbafbc54bca71cfe60": {
          "model_module": "@jupyter-widgets/base",
          "model_name": "LayoutModel",
          "model_module_version": "1.2.0",
          "state": {
            "_model_module": "@jupyter-widgets/base",
            "_model_module_version": "1.2.0",
            "_model_name": "LayoutModel",
            "_view_count": null,
            "_view_module": "@jupyter-widgets/base",
            "_view_module_version": "1.2.0",
            "_view_name": "LayoutView",
            "align_content": null,
            "align_items": null,
            "align_self": null,
            "border": null,
            "bottom": null,
            "display": null,
            "flex": null,
            "flex_flow": null,
            "grid_area": null,
            "grid_auto_columns": null,
            "grid_auto_flow": null,
            "grid_auto_rows": null,
            "grid_column": null,
            "grid_gap": null,
            "grid_row": null,
            "grid_template_areas": null,
            "grid_template_columns": null,
            "grid_template_rows": null,
            "height": null,
            "justify_content": null,
            "justify_items": null,
            "left": null,
            "margin": null,
            "max_height": null,
            "max_width": null,
            "min_height": null,
            "min_width": null,
            "object_fit": null,
            "object_position": null,
            "order": null,
            "overflow": null,
            "overflow_x": null,
            "overflow_y": null,
            "padding": null,
            "right": null,
            "top": null,
            "visibility": null,
            "width": null
          }
        },
        "df7cf21ba62844cc98dca093c278ebe4": {
          "model_module": "@jupyter-widgets/controls",
          "model_name": "DescriptionStyleModel",
          "model_module_version": "1.5.0",
          "state": {
            "_model_module": "@jupyter-widgets/controls",
            "_model_module_version": "1.5.0",
            "_model_name": "DescriptionStyleModel",
            "_view_count": null,
            "_view_module": "@jupyter-widgets/base",
            "_view_module_version": "1.2.0",
            "_view_name": "StyleView",
            "description_width": ""
          }
        }
      }
    }
  },
  "cells": [
    {
      "cell_type": "markdown",
      "metadata": {
        "id": "view-in-github",
        "colab_type": "text"
      },
      "source": [
        "<a href=\"https://colab.research.google.com/github/bonitr02/datasci_3_eda/blob/main/datasci_3_eda.ipynb\" target=\"_parent\"><img src=\"https://colab.research.google.com/assets/colab-badge.svg\" alt=\"Open In Colab\"/></a>"
      ]
    },
    {
      "cell_type": "markdown",
      "source": [
        "# Week 3: Exploratory Data Analysis (EDA)"
      ],
      "metadata": {
        "id": "MVU8EQe3QgMH"
      }
    },
    {
      "cell_type": "markdown",
      "source": [
        "## Load packages"
      ],
      "metadata": {
        "id": "d_wNls9RzRKz"
      }
    },
    {
      "cell_type": "code",
      "source": [
        "import pandas as pd\n",
        "\n",
        "import numpy as np\n",
        "\n",
        "import matplotlib.pyplot as plt\n",
        "import seaborn as sns\n",
        "\n",
        "!pip install pandas_profiling\n",
        "from pandas_profiling import ProfileReport"
      ],
      "metadata": {
        "id": "fnSCTrDZzhJh",
        "colab": {
          "base_uri": "https://localhost:8080/"
        },
        "outputId": "d7035dcf-d493-4184-849e-0c6f8bbc4445"
      },
      "execution_count": 155,
      "outputs": [
        {
          "output_type": "stream",
          "name": "stdout",
          "text": [
            "Requirement already satisfied: pandas_profiling in /usr/local/lib/python3.10/dist-packages (3.6.6)\n",
            "Requirement already satisfied: ydata-profiling in /usr/local/lib/python3.10/dist-packages (from pandas_profiling) (4.5.1)\n",
            "Requirement already satisfied: scipy<1.12,>=1.4.1 in /usr/local/lib/python3.10/dist-packages (from ydata-profiling->pandas_profiling) (1.11.2)\n",
            "Requirement already satisfied: pandas!=1.4.0,<2.1,>1.1 in /usr/local/lib/python3.10/dist-packages (from ydata-profiling->pandas_profiling) (1.5.3)\n",
            "Requirement already satisfied: matplotlib<4,>=3.2 in /usr/local/lib/python3.10/dist-packages (from ydata-profiling->pandas_profiling) (3.7.1)\n",
            "Requirement already satisfied: pydantic<2,>=1.8.1 in /usr/local/lib/python3.10/dist-packages (from ydata-profiling->pandas_profiling) (1.10.12)\n",
            "Requirement already satisfied: PyYAML<6.1,>=5.0.0 in /usr/local/lib/python3.10/dist-packages (from ydata-profiling->pandas_profiling) (6.0.1)\n",
            "Requirement already satisfied: jinja2<3.2,>=2.11.1 in /usr/local/lib/python3.10/dist-packages (from ydata-profiling->pandas_profiling) (3.1.2)\n",
            "Requirement already satisfied: visions[type_image_path]==0.7.5 in /usr/local/lib/python3.10/dist-packages (from ydata-profiling->pandas_profiling) (0.7.5)\n",
            "Requirement already satisfied: numpy<1.24,>=1.16.0 in /usr/local/lib/python3.10/dist-packages (from ydata-profiling->pandas_profiling) (1.23.5)\n",
            "Requirement already satisfied: htmlmin==0.1.12 in /usr/local/lib/python3.10/dist-packages (from ydata-profiling->pandas_profiling) (0.1.12)\n",
            "Requirement already satisfied: phik<0.13,>=0.11.1 in /usr/local/lib/python3.10/dist-packages (from ydata-profiling->pandas_profiling) (0.12.3)\n",
            "Requirement already satisfied: requests<3,>=2.24.0 in /usr/local/lib/python3.10/dist-packages (from ydata-profiling->pandas_profiling) (2.31.0)\n",
            "Requirement already satisfied: tqdm<5,>=4.48.2 in /usr/local/lib/python3.10/dist-packages (from ydata-profiling->pandas_profiling) (4.66.1)\n",
            "Requirement already satisfied: seaborn<0.13,>=0.10.1 in /usr/local/lib/python3.10/dist-packages (from ydata-profiling->pandas_profiling) (0.12.2)\n",
            "Requirement already satisfied: multimethod<2,>=1.4 in /usr/local/lib/python3.10/dist-packages (from ydata-profiling->pandas_profiling) (1.9.1)\n",
            "Requirement already satisfied: statsmodels<1,>=0.13.2 in /usr/local/lib/python3.10/dist-packages (from ydata-profiling->pandas_profiling) (0.14.0)\n",
            "Requirement already satisfied: typeguard<3,>=2.13.2 in /usr/local/lib/python3.10/dist-packages (from ydata-profiling->pandas_profiling) (2.13.3)\n",
            "Requirement already satisfied: imagehash==4.3.1 in /usr/local/lib/python3.10/dist-packages (from ydata-profiling->pandas_profiling) (4.3.1)\n",
            "Requirement already satisfied: wordcloud>=1.9.1 in /usr/local/lib/python3.10/dist-packages (from ydata-profiling->pandas_profiling) (1.9.2)\n",
            "Requirement already satisfied: dacite>=1.8 in /usr/local/lib/python3.10/dist-packages (from ydata-profiling->pandas_profiling) (1.8.1)\n",
            "Requirement already satisfied: PyWavelets in /usr/local/lib/python3.10/dist-packages (from imagehash==4.3.1->ydata-profiling->pandas_profiling) (1.4.1)\n",
            "Requirement already satisfied: pillow in /usr/local/lib/python3.10/dist-packages (from imagehash==4.3.1->ydata-profiling->pandas_profiling) (9.4.0)\n",
            "Requirement already satisfied: attrs>=19.3.0 in /usr/local/lib/python3.10/dist-packages (from visions[type_image_path]==0.7.5->ydata-profiling->pandas_profiling) (23.1.0)\n",
            "Requirement already satisfied: networkx>=2.4 in /usr/local/lib/python3.10/dist-packages (from visions[type_image_path]==0.7.5->ydata-profiling->pandas_profiling) (3.1)\n",
            "Requirement already satisfied: tangled-up-in-unicode>=0.0.4 in /usr/local/lib/python3.10/dist-packages (from visions[type_image_path]==0.7.5->ydata-profiling->pandas_profiling) (0.2.0)\n",
            "Requirement already satisfied: MarkupSafe>=2.0 in /usr/local/lib/python3.10/dist-packages (from jinja2<3.2,>=2.11.1->ydata-profiling->pandas_profiling) (2.1.3)\n",
            "Requirement already satisfied: contourpy>=1.0.1 in /usr/local/lib/python3.10/dist-packages (from matplotlib<4,>=3.2->ydata-profiling->pandas_profiling) (1.1.0)\n",
            "Requirement already satisfied: cycler>=0.10 in /usr/local/lib/python3.10/dist-packages (from matplotlib<4,>=3.2->ydata-profiling->pandas_profiling) (0.11.0)\n",
            "Requirement already satisfied: fonttools>=4.22.0 in /usr/local/lib/python3.10/dist-packages (from matplotlib<4,>=3.2->ydata-profiling->pandas_profiling) (4.42.1)\n",
            "Requirement already satisfied: kiwisolver>=1.0.1 in /usr/local/lib/python3.10/dist-packages (from matplotlib<4,>=3.2->ydata-profiling->pandas_profiling) (1.4.5)\n",
            "Requirement already satisfied: packaging>=20.0 in /usr/local/lib/python3.10/dist-packages (from matplotlib<4,>=3.2->ydata-profiling->pandas_profiling) (23.1)\n",
            "Requirement already satisfied: pyparsing>=2.3.1 in /usr/local/lib/python3.10/dist-packages (from matplotlib<4,>=3.2->ydata-profiling->pandas_profiling) (3.1.1)\n",
            "Requirement already satisfied: python-dateutil>=2.7 in /usr/local/lib/python3.10/dist-packages (from matplotlib<4,>=3.2->ydata-profiling->pandas_profiling) (2.8.2)\n",
            "Requirement already satisfied: pytz>=2020.1 in /usr/local/lib/python3.10/dist-packages (from pandas!=1.4.0,<2.1,>1.1->ydata-profiling->pandas_profiling) (2023.3.post1)\n",
            "Requirement already satisfied: joblib>=0.14.1 in /usr/local/lib/python3.10/dist-packages (from phik<0.13,>=0.11.1->ydata-profiling->pandas_profiling) (1.3.2)\n",
            "Requirement already satisfied: typing-extensions>=4.2.0 in /usr/local/lib/python3.10/dist-packages (from pydantic<2,>=1.8.1->ydata-profiling->pandas_profiling) (4.5.0)\n",
            "Requirement already satisfied: charset-normalizer<4,>=2 in /usr/local/lib/python3.10/dist-packages (from requests<3,>=2.24.0->ydata-profiling->pandas_profiling) (3.2.0)\n",
            "Requirement already satisfied: idna<4,>=2.5 in /usr/local/lib/python3.10/dist-packages (from requests<3,>=2.24.0->ydata-profiling->pandas_profiling) (3.4)\n",
            "Requirement already satisfied: urllib3<3,>=1.21.1 in /usr/local/lib/python3.10/dist-packages (from requests<3,>=2.24.0->ydata-profiling->pandas_profiling) (2.0.4)\n",
            "Requirement already satisfied: certifi>=2017.4.17 in /usr/local/lib/python3.10/dist-packages (from requests<3,>=2.24.0->ydata-profiling->pandas_profiling) (2023.7.22)\n",
            "Requirement already satisfied: patsy>=0.5.2 in /usr/local/lib/python3.10/dist-packages (from statsmodels<1,>=0.13.2->ydata-profiling->pandas_profiling) (0.5.3)\n",
            "Requirement already satisfied: six in /usr/local/lib/python3.10/dist-packages (from patsy>=0.5.2->statsmodels<1,>=0.13.2->ydata-profiling->pandas_profiling) (1.16.0)\n"
          ]
        }
      ]
    },
    {
      "cell_type": "markdown",
      "source": [
        "## Load dataset"
      ],
      "metadata": {
        "id": "VaquyDyERT_Y"
      }
    },
    {
      "cell_type": "code",
      "source": [
        "df = pd.read_csv('/content/NCHS_-_Drug_Poisoning_Mortality_by_State__United_States.csv')"
      ],
      "metadata": {
        "id": "rF8M0_tGRYQi"
      },
      "execution_count": 37,
      "outputs": []
    },
    {
      "cell_type": "markdown",
      "source": [
        "\n",
        "## Look for missingness\n"
      ],
      "metadata": {
        "id": "px1NbezeRvVF"
      }
    },
    {
      "cell_type": "code",
      "source": [
        "# Handling whitespace as missing data\n",
        "df.replace(\" \", pd.NA, inplace=True)"
      ],
      "metadata": {
        "id": "RaI-1oDSUyBP"
      },
      "execution_count": 29,
      "outputs": []
    },
    {
      "cell_type": "markdown",
      "source": [
        "### Look for dataset descriptors"
      ],
      "metadata": {
        "id": "qFD8NTvyVME4"
      }
    },
    {
      "cell_type": "code",
      "source": [
        "df.describe()"
      ],
      "metadata": {
        "colab": {
          "base_uri": "https://localhost:8080/",
          "height": 317
        },
        "id": "RFeA9Jt6Rgqb",
        "outputId": "54d1a89e-8222-4ecb-efc6-18b94dbb3c67"
      },
      "execution_count": 97,
      "outputs": [
        {
          "output_type": "execute_result",
          "data": {
            "text/plain": [
              "       Crude Death Rate  Standard Error for Crude Rate  \\\n",
              "count       2862.000000                    2862.000000   \n",
              "mean          10.658853                       0.435556   \n",
              "std            8.576254                       0.327640   \n",
              "min            0.038900                       0.014280   \n",
              "25%            3.970475                       0.199910   \n",
              "50%            9.074200                       0.361460   \n",
              "75%           14.895425                       0.571330   \n",
              "max           68.312200                       2.407800   \n",
              "\n",
              "       Lower Confidence Limit for Crude Rate  \\\n",
              "count                            2862.000000   \n",
              "mean                                9.822960   \n",
              "std                                 8.327741   \n",
              "min                                 0.008000   \n",
              "25%                                 3.392700   \n",
              "50%                                 8.209800   \n",
              "75%                                13.723875   \n",
              "max                                66.889100   \n",
              "\n",
              "       Upper Confidence Limit for Crude Rate  Age-adjusted Rate  \\\n",
              "count                            2862.000000        1134.000000   \n",
              "mean                               11.550930          11.767422   \n",
              "std                                 8.828572           6.034103   \n",
              "min                                 0.095100           1.820500   \n",
              "25%                                 4.671150           7.521925   \n",
              "50%                                 9.949700          10.956250   \n",
              "75%                                16.047750          14.626600   \n",
              "max                                69.735300          52.021100   \n",
              "\n",
              "       Standard Error for Age-adjusted Rate  \\\n",
              "count                           1134.000000   \n",
              "mean                               0.552757   \n",
              "std                                0.398338   \n",
              "min                                0.046710   \n",
              "25%                                0.263120   \n",
              "50%                                0.466440   \n",
              "75%                                0.742965   \n",
              "max                                2.406580   \n",
              "\n",
              "       Lower Confidence Limit for Age-adjusted Rate  \\\n",
              "count                                   1134.000000   \n",
              "mean                                      10.701018   \n",
              "std                                        5.738849   \n",
              "min                                        0.940700   \n",
              "25%                                        6.679100   \n",
              "50%                                       10.021000   \n",
              "75%                                       13.335475   \n",
              "max                                       48.508800   \n",
              "\n",
              "       Upper Confidence Limit for Age-adjusted Rate  US Crude Rate  \\\n",
              "count                                   1134.000000    2862.000000   \n",
              "mean                                      12.886507      11.481156   \n",
              "std                                        6.386080       3.487083   \n",
              "min                                        2.210100       6.038200   \n",
              "25%                                        8.457450       8.888100   \n",
              "50%                                       12.052900      11.970350   \n",
              "75%                                       15.892625      13.267400   \n",
              "max                                       55.533400      19.692500   \n",
              "\n",
              "       US Age-adjusted Rate  \n",
              "count           2862.000000  \n",
              "mean              11.440756  \n",
              "std                3.481560  \n",
              "min                6.057000  \n",
              "25%                8.876500  \n",
              "50%               11.886100  \n",
              "75%               13.185200  \n",
              "max               19.785100  "
            ],
            "text/html": [
              "\n",
              "  <div id=\"df-a27ebf77-17e9-458e-ba60-54844c6bf5e9\" class=\"colab-df-container\">\n",
              "    <div>\n",
              "<style scoped>\n",
              "    .dataframe tbody tr th:only-of-type {\n",
              "        vertical-align: middle;\n",
              "    }\n",
              "\n",
              "    .dataframe tbody tr th {\n",
              "        vertical-align: top;\n",
              "    }\n",
              "\n",
              "    .dataframe thead th {\n",
              "        text-align: right;\n",
              "    }\n",
              "</style>\n",
              "<table border=\"1\" class=\"dataframe\">\n",
              "  <thead>\n",
              "    <tr style=\"text-align: right;\">\n",
              "      <th></th>\n",
              "      <th>Crude Death Rate</th>\n",
              "      <th>Standard Error for Crude Rate</th>\n",
              "      <th>Lower Confidence Limit for Crude Rate</th>\n",
              "      <th>Upper Confidence Limit for Crude Rate</th>\n",
              "      <th>Age-adjusted Rate</th>\n",
              "      <th>Standard Error for Age-adjusted Rate</th>\n",
              "      <th>Lower Confidence Limit for Age-adjusted Rate</th>\n",
              "      <th>Upper Confidence Limit for Age-adjusted Rate</th>\n",
              "      <th>US Crude Rate</th>\n",
              "      <th>US Age-adjusted Rate</th>\n",
              "    </tr>\n",
              "  </thead>\n",
              "  <tbody>\n",
              "    <tr>\n",
              "      <th>count</th>\n",
              "      <td>2862.000000</td>\n",
              "      <td>2862.000000</td>\n",
              "      <td>2862.000000</td>\n",
              "      <td>2862.000000</td>\n",
              "      <td>1134.000000</td>\n",
              "      <td>1134.000000</td>\n",
              "      <td>1134.000000</td>\n",
              "      <td>1134.000000</td>\n",
              "      <td>2862.000000</td>\n",
              "      <td>2862.000000</td>\n",
              "    </tr>\n",
              "    <tr>\n",
              "      <th>mean</th>\n",
              "      <td>10.658853</td>\n",
              "      <td>0.435556</td>\n",
              "      <td>9.822960</td>\n",
              "      <td>11.550930</td>\n",
              "      <td>11.767422</td>\n",
              "      <td>0.552757</td>\n",
              "      <td>10.701018</td>\n",
              "      <td>12.886507</td>\n",
              "      <td>11.481156</td>\n",
              "      <td>11.440756</td>\n",
              "    </tr>\n",
              "    <tr>\n",
              "      <th>std</th>\n",
              "      <td>8.576254</td>\n",
              "      <td>0.327640</td>\n",
              "      <td>8.327741</td>\n",
              "      <td>8.828572</td>\n",
              "      <td>6.034103</td>\n",
              "      <td>0.398338</td>\n",
              "      <td>5.738849</td>\n",
              "      <td>6.386080</td>\n",
              "      <td>3.487083</td>\n",
              "      <td>3.481560</td>\n",
              "    </tr>\n",
              "    <tr>\n",
              "      <th>min</th>\n",
              "      <td>0.038900</td>\n",
              "      <td>0.014280</td>\n",
              "      <td>0.008000</td>\n",
              "      <td>0.095100</td>\n",
              "      <td>1.820500</td>\n",
              "      <td>0.046710</td>\n",
              "      <td>0.940700</td>\n",
              "      <td>2.210100</td>\n",
              "      <td>6.038200</td>\n",
              "      <td>6.057000</td>\n",
              "    </tr>\n",
              "    <tr>\n",
              "      <th>25%</th>\n",
              "      <td>3.970475</td>\n",
              "      <td>0.199910</td>\n",
              "      <td>3.392700</td>\n",
              "      <td>4.671150</td>\n",
              "      <td>7.521925</td>\n",
              "      <td>0.263120</td>\n",
              "      <td>6.679100</td>\n",
              "      <td>8.457450</td>\n",
              "      <td>8.888100</td>\n",
              "      <td>8.876500</td>\n",
              "    </tr>\n",
              "    <tr>\n",
              "      <th>50%</th>\n",
              "      <td>9.074200</td>\n",
              "      <td>0.361460</td>\n",
              "      <td>8.209800</td>\n",
              "      <td>9.949700</td>\n",
              "      <td>10.956250</td>\n",
              "      <td>0.466440</td>\n",
              "      <td>10.021000</td>\n",
              "      <td>12.052900</td>\n",
              "      <td>11.970350</td>\n",
              "      <td>11.886100</td>\n",
              "    </tr>\n",
              "    <tr>\n",
              "      <th>75%</th>\n",
              "      <td>14.895425</td>\n",
              "      <td>0.571330</td>\n",
              "      <td>13.723875</td>\n",
              "      <td>16.047750</td>\n",
              "      <td>14.626600</td>\n",
              "      <td>0.742965</td>\n",
              "      <td>13.335475</td>\n",
              "      <td>15.892625</td>\n",
              "      <td>13.267400</td>\n",
              "      <td>13.185200</td>\n",
              "    </tr>\n",
              "    <tr>\n",
              "      <th>max</th>\n",
              "      <td>68.312200</td>\n",
              "      <td>2.407800</td>\n",
              "      <td>66.889100</td>\n",
              "      <td>69.735300</td>\n",
              "      <td>52.021100</td>\n",
              "      <td>2.406580</td>\n",
              "      <td>48.508800</td>\n",
              "      <td>55.533400</td>\n",
              "      <td>19.692500</td>\n",
              "      <td>19.785100</td>\n",
              "    </tr>\n",
              "  </tbody>\n",
              "</table>\n",
              "</div>\n",
              "    <div class=\"colab-df-buttons\">\n",
              "\n",
              "  <div class=\"colab-df-container\">\n",
              "    <button class=\"colab-df-convert\" onclick=\"convertToInteractive('df-a27ebf77-17e9-458e-ba60-54844c6bf5e9')\"\n",
              "            title=\"Convert this dataframe to an interactive table.\"\n",
              "            style=\"display:none;\">\n",
              "\n",
              "  <svg xmlns=\"http://www.w3.org/2000/svg\" height=\"24px\" viewBox=\"0 -960 960 960\">\n",
              "    <path d=\"M120-120v-720h720v720H120Zm60-500h600v-160H180v160Zm220 220h160v-160H400v160Zm0 220h160v-160H400v160ZM180-400h160v-160H180v160Zm440 0h160v-160H620v160ZM180-180h160v-160H180v160Zm440 0h160v-160H620v160Z\"/>\n",
              "  </svg>\n",
              "    </button>\n",
              "\n",
              "  <style>\n",
              "    .colab-df-container {\n",
              "      display:flex;\n",
              "      gap: 12px;\n",
              "    }\n",
              "\n",
              "    .colab-df-convert {\n",
              "      background-color: #E8F0FE;\n",
              "      border: none;\n",
              "      border-radius: 50%;\n",
              "      cursor: pointer;\n",
              "      display: none;\n",
              "      fill: #1967D2;\n",
              "      height: 32px;\n",
              "      padding: 0 0 0 0;\n",
              "      width: 32px;\n",
              "    }\n",
              "\n",
              "    .colab-df-convert:hover {\n",
              "      background-color: #E2EBFA;\n",
              "      box-shadow: 0px 1px 2px rgba(60, 64, 67, 0.3), 0px 1px 3px 1px rgba(60, 64, 67, 0.15);\n",
              "      fill: #174EA6;\n",
              "    }\n",
              "\n",
              "    .colab-df-buttons div {\n",
              "      margin-bottom: 4px;\n",
              "    }\n",
              "\n",
              "    [theme=dark] .colab-df-convert {\n",
              "      background-color: #3B4455;\n",
              "      fill: #D2E3FC;\n",
              "    }\n",
              "\n",
              "    [theme=dark] .colab-df-convert:hover {\n",
              "      background-color: #434B5C;\n",
              "      box-shadow: 0px 1px 3px 1px rgba(0, 0, 0, 0.15);\n",
              "      filter: drop-shadow(0px 1px 2px rgba(0, 0, 0, 0.3));\n",
              "      fill: #FFFFFF;\n",
              "    }\n",
              "  </style>\n",
              "\n",
              "    <script>\n",
              "      const buttonEl =\n",
              "        document.querySelector('#df-a27ebf77-17e9-458e-ba60-54844c6bf5e9 button.colab-df-convert');\n",
              "      buttonEl.style.display =\n",
              "        google.colab.kernel.accessAllowed ? 'block' : 'none';\n",
              "\n",
              "      async function convertToInteractive(key) {\n",
              "        const element = document.querySelector('#df-a27ebf77-17e9-458e-ba60-54844c6bf5e9');\n",
              "        const dataTable =\n",
              "          await google.colab.kernel.invokeFunction('convertToInteractive',\n",
              "                                                    [key], {});\n",
              "        if (!dataTable) return;\n",
              "\n",
              "        const docLinkHtml = 'Like what you see? Visit the ' +\n",
              "          '<a target=\"_blank\" href=https://colab.research.google.com/notebooks/data_table.ipynb>data table notebook</a>'\n",
              "          + ' to learn more about interactive tables.';\n",
              "        element.innerHTML = '';\n",
              "        dataTable['output_type'] = 'display_data';\n",
              "        await google.colab.output.renderOutput(dataTable, element);\n",
              "        const docLink = document.createElement('div');\n",
              "        docLink.innerHTML = docLinkHtml;\n",
              "        element.appendChild(docLink);\n",
              "      }\n",
              "    </script>\n",
              "  </div>\n",
              "\n",
              "\n",
              "<div id=\"df-afa6da75-16c8-4c9c-8a2c-1ea401d844da\">\n",
              "  <button class=\"colab-df-quickchart\" onclick=\"quickchart('df-afa6da75-16c8-4c9c-8a2c-1ea401d844da')\"\n",
              "            title=\"Suggest charts.\"\n",
              "            style=\"display:none;\">\n",
              "\n",
              "<svg xmlns=\"http://www.w3.org/2000/svg\" height=\"24px\"viewBox=\"0 0 24 24\"\n",
              "     width=\"24px\">\n",
              "    <g>\n",
              "        <path d=\"M19 3H5c-1.1 0-2 .9-2 2v14c0 1.1.9 2 2 2h14c1.1 0 2-.9 2-2V5c0-1.1-.9-2-2-2zM9 17H7v-7h2v7zm4 0h-2V7h2v10zm4 0h-2v-4h2v4z\"/>\n",
              "    </g>\n",
              "</svg>\n",
              "  </button>\n",
              "\n",
              "<style>\n",
              "  .colab-df-quickchart {\n",
              "      --bg-color: #E8F0FE;\n",
              "      --fill-color: #1967D2;\n",
              "      --hover-bg-color: #E2EBFA;\n",
              "      --hover-fill-color: #174EA6;\n",
              "      --disabled-fill-color: #AAA;\n",
              "      --disabled-bg-color: #DDD;\n",
              "  }\n",
              "\n",
              "  [theme=dark] .colab-df-quickchart {\n",
              "      --bg-color: #3B4455;\n",
              "      --fill-color: #D2E3FC;\n",
              "      --hover-bg-color: #434B5C;\n",
              "      --hover-fill-color: #FFFFFF;\n",
              "      --disabled-bg-color: #3B4455;\n",
              "      --disabled-fill-color: #666;\n",
              "  }\n",
              "\n",
              "  .colab-df-quickchart {\n",
              "    background-color: var(--bg-color);\n",
              "    border: none;\n",
              "    border-radius: 50%;\n",
              "    cursor: pointer;\n",
              "    display: none;\n",
              "    fill: var(--fill-color);\n",
              "    height: 32px;\n",
              "    padding: 0;\n",
              "    width: 32px;\n",
              "  }\n",
              "\n",
              "  .colab-df-quickchart:hover {\n",
              "    background-color: var(--hover-bg-color);\n",
              "    box-shadow: 0 1px 2px rgba(60, 64, 67, 0.3), 0 1px 3px 1px rgba(60, 64, 67, 0.15);\n",
              "    fill: var(--button-hover-fill-color);\n",
              "  }\n",
              "\n",
              "  .colab-df-quickchart-complete:disabled,\n",
              "  .colab-df-quickchart-complete:disabled:hover {\n",
              "    background-color: var(--disabled-bg-color);\n",
              "    fill: var(--disabled-fill-color);\n",
              "    box-shadow: none;\n",
              "  }\n",
              "\n",
              "  .colab-df-spinner {\n",
              "    border: 2px solid var(--fill-color);\n",
              "    border-color: transparent;\n",
              "    border-bottom-color: var(--fill-color);\n",
              "    animation:\n",
              "      spin 1s steps(1) infinite;\n",
              "  }\n",
              "\n",
              "  @keyframes spin {\n",
              "    0% {\n",
              "      border-color: transparent;\n",
              "      border-bottom-color: var(--fill-color);\n",
              "      border-left-color: var(--fill-color);\n",
              "    }\n",
              "    20% {\n",
              "      border-color: transparent;\n",
              "      border-left-color: var(--fill-color);\n",
              "      border-top-color: var(--fill-color);\n",
              "    }\n",
              "    30% {\n",
              "      border-color: transparent;\n",
              "      border-left-color: var(--fill-color);\n",
              "      border-top-color: var(--fill-color);\n",
              "      border-right-color: var(--fill-color);\n",
              "    }\n",
              "    40% {\n",
              "      border-color: transparent;\n",
              "      border-right-color: var(--fill-color);\n",
              "      border-top-color: var(--fill-color);\n",
              "    }\n",
              "    60% {\n",
              "      border-color: transparent;\n",
              "      border-right-color: var(--fill-color);\n",
              "    }\n",
              "    80% {\n",
              "      border-color: transparent;\n",
              "      border-right-color: var(--fill-color);\n",
              "      border-bottom-color: var(--fill-color);\n",
              "    }\n",
              "    90% {\n",
              "      border-color: transparent;\n",
              "      border-bottom-color: var(--fill-color);\n",
              "    }\n",
              "  }\n",
              "</style>\n",
              "\n",
              "  <script>\n",
              "    async function quickchart(key) {\n",
              "      const quickchartButtonEl =\n",
              "        document.querySelector('#' + key + ' button');\n",
              "      quickchartButtonEl.disabled = true;  // To prevent multiple clicks.\n",
              "      quickchartButtonEl.classList.add('colab-df-spinner');\n",
              "      try {\n",
              "        const charts = await google.colab.kernel.invokeFunction(\n",
              "            'suggestCharts', [key], {});\n",
              "      } catch (error) {\n",
              "        console.error('Error during call to suggestCharts:', error);\n",
              "      }\n",
              "      quickchartButtonEl.classList.remove('colab-df-spinner');\n",
              "      quickchartButtonEl.classList.add('colab-df-quickchart-complete');\n",
              "    }\n",
              "    (() => {\n",
              "      let quickchartButtonEl =\n",
              "        document.querySelector('#df-afa6da75-16c8-4c9c-8a2c-1ea401d844da button');\n",
              "      quickchartButtonEl.style.display =\n",
              "        google.colab.kernel.accessAllowed ? 'block' : 'none';\n",
              "    })();\n",
              "  </script>\n",
              "</div>\n",
              "    </div>\n",
              "  </div>\n"
            ]
          },
          "metadata": {},
          "execution_count": 97
        }
      ]
    },
    {
      "cell_type": "code",
      "source": [
        "df.columns"
      ],
      "metadata": {
        "colab": {
          "base_uri": "https://localhost:8080/"
        },
        "id": "9mmVCHBlTG7b",
        "outputId": "3fb4d6a2-1257-45b8-ab13-b7a75cc66cec"
      },
      "execution_count": 31,
      "outputs": [
        {
          "output_type": "execute_result",
          "data": {
            "text/plain": [
              "Index(['State', 'Year', 'Sex', 'Age Group', 'Race and Hispanic Origin',\n",
              "       'Deaths', 'Population', 'Crude Death Rate',\n",
              "       'Standard Error for Crude Rate',\n",
              "       'Lower Confidence Limit for Crude Rate',\n",
              "       'Upper Confidence Limit for Crude Rate', 'Age-adjusted Rate',\n",
              "       'Standard Error for Age-adjusted Rate',\n",
              "       'Lower Confidence Limit for Age-adjusted Rate',\n",
              "       'Upper Confidence Limit for Age-adjusted Rate',\n",
              "       'State Crude Rate in Range', 'US Crude Rate', 'US Age-adjusted Rate',\n",
              "       'Unit'],\n",
              "      dtype='object')"
            ]
          },
          "metadata": {},
          "execution_count": 31
        }
      ]
    },
    {
      "cell_type": "code",
      "source": [
        "df.dtypes"
      ],
      "metadata": {
        "colab": {
          "base_uri": "https://localhost:8080/"
        },
        "id": "Wnx5A5fJTMAS",
        "outputId": "ca73e20a-398a-4a4d-bd9e-e70d2fa2ad5f"
      },
      "execution_count": 103,
      "outputs": [
        {
          "output_type": "execute_result",
          "data": {
            "text/plain": [
              "State                                            object\n",
              "Year                                             object\n",
              "Sex                                              object\n",
              "Age Group                                        object\n",
              "Race and Hispanic Origin                         object\n",
              "Deaths                                            int64\n",
              "Population                                        int64\n",
              "Crude Death Rate                                float64\n",
              "Standard Error for Crude Rate                   float64\n",
              "Lower Confidence Limit for Crude Rate           float64\n",
              "Upper Confidence Limit for Crude Rate           float64\n",
              "Age-adjusted Rate                               float64\n",
              "Standard Error for Age-adjusted Rate            float64\n",
              "Lower Confidence Limit for Age-adjusted Rate    float64\n",
              "Upper Confidence Limit for Age-adjusted Rate    float64\n",
              "State Crude Rate in Range                        object\n",
              "US Crude Rate                                   float64\n",
              "US Age-adjusted Rate                            float64\n",
              "Unit                                             object\n",
              "dtype: object"
            ]
          },
          "metadata": {},
          "execution_count": 103
        }
      ]
    },
    {
      "cell_type": "markdown",
      "source": [
        "### Modify column types and remove special characters"
      ],
      "metadata": {
        "id": "Pp7NB_7etZ93"
      }
    },
    {
      "cell_type": "code",
      "source": [
        "df['Year'] = df['Year'].apply(str)\n",
        "df = df.replace(',', '', regex=True)\n",
        "df['Deaths'] = df['Deaths'].apply(int)\n",
        "df['Population'] = df['Population'].apply(int)"
      ],
      "metadata": {
        "colab": {
          "base_uri": "https://localhost:8080/"
        },
        "id": "cknvTYeFrP1Q",
        "outputId": "fb28252c-64bf-4b20-9c83-6e2cdb1eedab"
      },
      "execution_count": 102,
      "outputs": [
        {
          "output_type": "stream",
          "name": "stdout",
          "text": [
            "        State  Year         Sex Age Group Race and Hispanic Origin  Deaths  \\\n",
            "0     Alabama  1999  Both Sexes  All Ages    All Races-All Origins     169   \n",
            "1     Alabama  2000  Both Sexes  All Ages    All Races-All Origins     197   \n",
            "2     Alabama  2001  Both Sexes  All Ages    All Races-All Origins     216   \n",
            "3     Alabama  2002  Both Sexes  All Ages    All Races-All Origins     211   \n",
            "4     Alabama  2003  Both Sexes  All Ages    All Races-All Origins     197   \n",
            "...       ...   ...         ...       ...                      ...     ...   \n",
            "2857  Wyoming  2012  Both Sexes  All Ages    All Races-All Origins      98   \n",
            "2858  Wyoming  2013  Both Sexes  All Ages    All Races-All Origins      98   \n",
            "2859  Wyoming  2014  Both Sexes  All Ages    All Races-All Origins     109   \n",
            "2860  Wyoming  2015  Both Sexes  All Ages    All Races-All Origins      96   \n",
            "2861  Wyoming  2016  Both Sexes  All Ages    All Races-All Origins      99   \n",
            "\n",
            "      Population  Crude Death Rate  Standard Error for Crude Rate  \\\n",
            "0        4430143            3.8148                        0.29344   \n",
            "1        4447100            4.4299                        0.31561   \n",
            "2        4467634            4.8348                        0.32896   \n",
            "3        4480089            4.7097                        0.32423   \n",
            "4        4503491            4.3744                        0.31166   \n",
            "...          ...               ...                            ...   \n",
            "2857      576412           17.0017                        1.71743   \n",
            "2858      582658           16.8195                        1.69902   \n",
            "2859      584153           18.6595                        1.78726   \n",
            "2860      586107           16.3793                        1.67170   \n",
            "2861      585501           16.9086                        1.69938   \n",
            "\n",
            "      Lower Confidence Limit for Crude Rate  \\\n",
            "0                                    3.2396   \n",
            "1                                    3.8112   \n",
            "2                                    4.1900   \n",
            "3                                    4.0742   \n",
            "4                                    3.7635   \n",
            "...                                     ...   \n",
            "2857                                13.8028   \n",
            "2858                                13.6549   \n",
            "2859                                15.1565   \n",
            "2860                                13.2673   \n",
            "2861                                13.7425   \n",
            "\n",
            "      Upper Confidence Limit for Crude Rate  Age-adjusted Rate  \\\n",
            "0                                    4.3899             3.8521   \n",
            "1                                    5.0485             4.4857   \n",
            "2                                    5.4795             4.8915   \n",
            "3                                    5.3452             4.7619   \n",
            "4                                    4.9852             4.4333   \n",
            "...                                     ...                ...   \n",
            "2857                                20.7197            16.7507   \n",
            "2858                                20.4975            17.2422   \n",
            "2859                                22.1625            19.3823   \n",
            "2860                                20.0019            16.4454   \n",
            "2861                                20.5856            17.5871   \n",
            "\n",
            "      Standard Error for Age-adjusted Rate  \\\n",
            "0                                  0.29657   \n",
            "1                                  0.31985   \n",
            "2                                  0.33329   \n",
            "3                                  0.32868   \n",
            "4                                  0.31701   \n",
            "...                                    ...   \n",
            "2857                               1.73782   \n",
            "2858                               1.78648   \n",
            "2859                               1.90026   \n",
            "2860                               1.72940   \n",
            "2861                               1.81892   \n",
            "\n",
            "      Lower Confidence Limit for Age-adjusted Rate  \\\n",
            "0                                           3.2708   \n",
            "1                                           3.8588   \n",
            "2                                           4.2382   \n",
            "3                                           4.1177   \n",
            "4                                           3.8120   \n",
            "...                                            ...   \n",
            "2857                                       13.5200   \n",
            "2858                                       13.9167   \n",
            "2859                                       15.6577   \n",
            "2860                                       13.2241   \n",
            "2861                                       14.1950   \n",
            "\n",
            "      Upper Confidence Limit for Age-adjusted Rate State Crude Rate in Range  \\\n",
            "0                                           4.4334                   1.8–7.1   \n",
            "1                                           5.1126                   1.8–7.1   \n",
            "2                                           5.5447                   1.8–7.1   \n",
            "3                                           5.4062                   1.8–7.1   \n",
            "4                                           5.0547                   1.8–7.1   \n",
            "...                                            ...                       ...   \n",
            "2857                                       20.5208                     16–52   \n",
            "2858                                       21.1229                     16–52   \n",
            "2859                                       23.1068                     16–52   \n",
            "2860                                       20.2142                     16–52   \n",
            "2861                                       21.5453                     16–52   \n",
            "\n",
            "      US Crude Rate  US Age-adjusted Rate                   Unit  \n",
            "0            6.0382                6.0570  per 100000 population  \n",
            "1            6.1882                6.1749  per 100000 population  \n",
            "2            6.8057                6.7922  per 100000 population  \n",
            "3            8.1766                8.1957  per 100000 population  \n",
            "4            8.8881                8.8765  per 100000 population  \n",
            "...             ...                   ...                    ...  \n",
            "2857        13.2208               13.1422  per 100000 population  \n",
            "2858        13.9127               13.8005  per 100000 population  \n",
            "2859        14.7574               14.6831  per 100000 population  \n",
            "2860        16.3040               16.2923  per 100000 population  \n",
            "2861        19.6925               19.7851  per 100000 population  \n",
            "\n",
            "[2862 rows x 19 columns]\n"
          ]
        }
      ]
    },
    {
      "cell_type": "markdown",
      "source": [
        "## Univariate Analysis"
      ],
      "metadata": {
        "id": "MHVji6JVVxZa"
      }
    },
    {
      "cell_type": "markdown",
      "source": [
        "### Calculate measures of central tendency (mean, median, mode) and measures of spread (range, variance, standard deviation, IQR)\n"
      ],
      "metadata": {
        "id": "CLvmu8dgV12W"
      }
    },
    {
      "cell_type": "code",
      "source": [
        "# Calculate mean, median, and mode\n",
        "mean_deathRate = df['Crude Death Rate'].mean()\n",
        "median_deathRate = df['Crude Death Rate'].median()\n",
        "mode_deathRate = df['Crude Death Rate'].mode().iloc[0]\n",
        "\n",
        "# Calculate range\n",
        "range_deathRate = df['Crude Death Rate'].max() - df['Crude Death Rate'].min()\n",
        "\n",
        "# Calculate variance and standard deviation\n",
        "variance_deathRate = np.var(df['Crude Death Rate'])\n",
        "std_deviation_deathRate = np.std(df['Crude Death Rate'])\n",
        "\n",
        "# Calculate percentiles\n",
        "percentile_0_deathRate = np.percentile(df['Crude Death Rate'], 0)\n",
        "percentile_25_deathRate = np.percentile(df['Crude Death Rate'], 25)\n",
        "percentile_50_deathRate= np.percentile(df['Crude Death Rate'], 50)\n",
        "percentile_75_deathRate= np.percentile(df['Crude Death Rate'], 75)\n",
        "percentile_100_deathRate= np.percentile(df['Crude Death Rate'], 100)\n",
        "\n",
        "# IQR\n",
        "data_description = df['Crude Death Rate'].describe()\n",
        "print(data_description)"
      ],
      "metadata": {
        "colab": {
          "base_uri": "https://localhost:8080/"
        },
        "id": "87OdrCqgV9Sk",
        "outputId": "98c02156-b2c5-4953-af99-2051681109da"
      },
      "execution_count": 48,
      "outputs": [
        {
          "output_type": "stream",
          "name": "stdout",
          "text": [
            "count    2862.000000\n",
            "mean       10.658853\n",
            "std         8.576254\n",
            "min         0.038900\n",
            "25%         3.970475\n",
            "50%         9.074200\n",
            "75%        14.895425\n",
            "max        68.312200\n",
            "Name: Crude Death Rate, dtype: float64\n"
          ]
        }
      ]
    },
    {
      "cell_type": "code",
      "source": [
        "# Print results\n",
        "print(\"Mean Crude Death Rate:\", mean_deathRate)\n",
        "print(\"Median Crude Death Rate:\", median_deathRate)\n",
        "print(\"Mode Crude Death Rate:\", mode_deathRate)\n",
        "print(\"Variance Crude Death Rate:\", variance_deathRate)\n",
        "print(\"Standard Deviation Crude Death Rate:\", std_deviation_deathRate)\n",
        "print(\"0th Percentile Crude Death Rate:\", percentile_0_deathRate)\n",
        "print(\"25th Percentile Crude Death Rate:\", percentile_25_deathRate)\n",
        "print(\"50th Percentile Crude Death Rate:\", percentile_50_deathRate)\n",
        "print(\"75th Percentile Crude Death Rate:\", percentile_75_deathRate)\n",
        "print(\"100th Percentile Crude Death Rate:\", percentile_100_deathRate)\n",
        "print(\"Data Range Crude Death Rate:\", range_deathRate)"
      ],
      "metadata": {
        "colab": {
          "base_uri": "https://localhost:8080/"
        },
        "id": "5lbAkX5eip1C",
        "outputId": "e4afeb38-0f5d-4552-b0f3-24f78a61a3a3"
      },
      "execution_count": 53,
      "outputs": [
        {
          "output_type": "stream",
          "name": "stdout",
          "text": [
            "Mean Crude Death Rate: 10.658853004891684\n",
            "Median Crude Death Rate: 9.074200000000001\n",
            "Mode Crude Death Rate: 0.1452\n",
            "Variance Crude Death Rate: 73.52643723857763\n",
            "Standard Deviation Crude Death Rate: 8.57475581218367\n",
            "0th Percentile Crude Death Rate: 0.0389\n",
            "25th Percentile Crude Death Rate: 3.970475\n",
            "50th Percentile Crude Death Rate: 9.074200000000001\n",
            "75th Percentile Crude Death Rate: 14.895425\n",
            "100th Percentile Crude Death Rate: 68.3122\n",
            "Data Range Crude Death Rate: 68.2733\n"
          ]
        }
      ]
    },
    {
      "cell_type": "markdown",
      "source": [
        "### Visualize the distribution of select numerical variables using histograms."
      ],
      "metadata": {
        "id": "mshw2E7qV5hj"
      }
    },
    {
      "cell_type": "code",
      "source": [
        "# Create a histogram\n",
        "plt.hist(df['Crude Death Rate'], bins=30, density=True, alpha=0.7, color='green', label='Histogram')\n",
        "\n",
        "# Create a probability density function (PDF) curve\n",
        "x = np.linspace(min(df['Crude Death Rate']), max(df['Crude Death Rate']), 100)\n",
        "pdf = (1/(std_deviation_deathRate * np.sqrt(2*np.pi))) * np.exp(-(x - mean_deathRate)**2 / (2*std_deviation_deathRate**2))\n",
        "plt.plot(x, pdf, color='purple', label='PDF')\n",
        "\n",
        "plt.title('Crude Death Rate by Drug Poisoning (%)')\n",
        "plt.xlabel('Death Rate (%)')\n",
        "plt.ylabel('Probability Density')\n",
        "plt.legend()\n",
        "plt.grid(True)\n",
        "plt.show()"
      ],
      "metadata": {
        "colab": {
          "base_uri": "https://localhost:8080/",
          "height": 0
        },
        "id": "GfV3h6ZHV9yC",
        "outputId": "ef14863b-b109-4c26-9777-d144b4d16ae4"
      },
      "execution_count": 63,
      "outputs": [
        {
          "output_type": "display_data",
          "data": {
            "text/plain": [
              "<Figure size 640x480 with 1 Axes>"
            ],
            "image/png": "[encoded data removed]"
          },
          "metadata": {}
        }
      ]
    },
    {
      "cell_type": "markdown",
      "source": [
        "## Bivariate Analysis"
      ],
      "metadata": {
        "id": "eia4h816Qn-G"
      }
    },
    {
      "cell_type": "markdown",
      "source": [
        "### Analyze the relationship between pairs of variables.\n",
        "Use scatter plots to explore potential relationships between two numerical variables."
      ],
      "metadata": {
        "id": "gzKoEaR2WAXn"
      }
    },
    {
      "cell_type": "code",
      "source": [
        "# Create a scatter plot\n",
        "plt.figure(figsize=(8, 6))\n",
        "plt.scatter(df['Crude Death Rate'], df['Population'], alpha=0.7)\n",
        "plt.xlabel('Crude Death Rate')\n",
        "plt.ylabel('Population(millions)')\n",
        "plt.title('Scatter Plot of Crude Death Rate vs. Population (millions)')\n",
        "plt.grid()\n",
        "plt.show()"
      ],
      "metadata": {
        "colab": {
          "base_uri": "https://localhost:8080/",
          "height": 564
        },
        "id": "OlFxkt0Pab1x",
        "outputId": "6fe9b54b-6ae9-4ba8-bf23-5d039fec17f8"
      },
      "execution_count": 137,
      "outputs": [
        {
          "output_type": "display_data",
          "data": {
            "text/plain": [
              "<Figure size 800x600 with 1 Axes>"
            ],
            "image/png": "[encoded data removed]"
          },
          "metadata": {}
        }
      ]
    },
    {
      "cell_type": "markdown",
      "source": [
        "<b> A scatterplot using multivariables"
      ],
      "metadata": {
        "id": "xV2NTlo_KZZk"
      }
    },
    {
      "cell_type": "code",
      "source": [
        "sns.relplot(x=df['Deaths'], y=df['Population'], hue=df['Year'],\n",
        "            sizes=(40, 400), alpha=.5, palette=\"muted\",\n",
        "            height=6, data=df)"
      ],
      "metadata": {
        "colab": {
          "base_uri": "https://localhost:8080/",
          "height": 625
        },
        "id": "QUsCD4AnJnnv",
        "outputId": "fc0dbe54-c699-4882-e001-739465398d9d"
      },
      "execution_count": 158,
      "outputs": [
        {
          "output_type": "execute_result",
          "data": {
            "text/plain": [
              "<seaborn.axisgrid.FacetGrid at 0x7a3cb33b0af0>"
            ]
          },
          "metadata": {},
          "execution_count": 158
        },
        {
          "output_type": "display_data",
          "data": {
            "text/plain": [
              "<Figure size 685.5x600 with 1 Axes>"
            ],
            "image/png": "[encoded data removed]"
          },
          "metadata": {}
        }
      ]
    },
    {
      "cell_type": "markdown",
      "source": [
        "### For categorical and numerical variable pairs, use boxplots."
      ],
      "metadata": {
        "id": "RmlDaYovWDyr"
      }
    },
    {
      "cell_type": "code",
      "source": [
        "sns.boxplot(x = df['Crude Death Rate'],\n",
        "            y = df['Age Group']\n",
        "            )"
      ],
      "metadata": {
        "colab": {
          "base_uri": "https://localhost:8080/",
          "height": 467
        },
        "id": "5SUfxEn6oovN",
        "outputId": "bdbc6c5a-2b6b-4468-d3fb-a2d6d228be05"
      },
      "execution_count": 154,
      "outputs": [
        {
          "output_type": "execute_result",
          "data": {
            "text/plain": [
              "<Axes: xlabel='Crude Death Rate', ylabel='Age Group'>"
            ]
          },
          "metadata": {},
          "execution_count": 154
        },
        {
          "output_type": "display_data",
          "data": {
            "text/plain": [
              "<Figure size 640x480 with 1 Axes>"
            ],
            "image/png": "[encoded data removed]"
          },
          "metadata": {}
        }
      ]
    },
    {
      "cell_type": "markdown",
      "source": [
        "### Compute correlation coefficients for numerical variables.\n",
        "\n",
        "Strong correlation observed between Population number and Deaths that occurred\n",
        "\n"
      ],
      "metadata": {
        "id": "yGYhc5Fe7rpM"
      }
    },
    {
      "cell_type": "code",
      "source": [
        "correlation_matrix_1 = df[['Crude Death Rate', 'Population', 'Deaths']].corr()"
      ],
      "metadata": {
        "id": "p58DJUx-6877"
      },
      "execution_count": 159,
      "outputs": []
    },
    {
      "cell_type": "code",
      "source": [
        "print(\"Correlation Matrix 1:\\n\", correlation_matrix_1)"
      ],
      "metadata": {
        "colab": {
          "base_uri": "https://localhost:8080/"
        },
        "id": "WoleybqR7VBN",
        "outputId": "63c0010e-7316-4e38-803c-29c7d9eb8328"
      },
      "execution_count": 160,
      "outputs": [
        {
          "output_type": "stream",
          "name": "stdout",
          "text": [
            "Correlation Matrix 1:\n",
            "                   Crude Death Rate  Population    Deaths\n",
            "Crude Death Rate          1.000000    0.064681  0.322558\n",
            "Population                0.064681    1.000000  0.889403\n",
            "Deaths                    0.322558    0.889403  1.000000\n"
          ]
        }
      ]
    },
    {
      "cell_type": "markdown",
      "source": [
        "## Handling Outliers"
      ],
      "metadata": {
        "id": "3PElPn9FQqRE"
      }
    },
    {
      "cell_type": "markdown",
      "source": [
        "### Identify outliers in your dataset using the IQR method"
      ],
      "metadata": {
        "id": "1z5352t3WHd1"
      }
    },
    {
      "cell_type": "code",
      "source": [
        "# Calculate quartiles and IQR\n",
        "q1 = np.percentile(df['Crude Death Rate'], 25)\n",
        "q3= np.percentile(df['Crude Death Rate'], 75)\n",
        "iqr = q3 - q1\n",
        "\n",
        "# Set threshold for outlier detection\n",
        "threshold_lower = q1 - 1.5 * iqr\n",
        "threshold_upper = q3 + 1.5 * iqr\n",
        "\n",
        "# Identify outliers\n",
        "outliers = [x for x in df['Crude Death Rate'] if x < threshold_lower or x > threshold_upper]\n",
        "\n",
        "print(\"Outliers:\", outliers)\n"
      ],
      "metadata": {
        "colab": {
          "base_uri": "https://localhost:8080/"
        },
        "id": "OaCWYWLb_7NG",
        "outputId": "497714dc-e3ac-4c30-9bba-c60e1724160b"
      },
      "execution_count": 151,
      "outputs": [
        {
          "output_type": "stream",
          "name": "stdout",
          "text": [
            "Outliers: [39.4909, 31.9813, 33.9735, 32.6934, 31.7148, 36.0355, 37.2728, 36.193, 34.5657, 35.0456, 34.5224, 36.3157, 36.213, 32.7557, 38.331, 48.658, 33.9418, 38.5824, 47.2305, 31.9374, 31.9337, 32.948, 34.1706, 36.3458, 40.7074, 32.5928, 31.5966, 33.6311, 31.9159, 37.8938, 48.8767, 36.3055, 46.9266, 31.5127, 32.8727, 35.279, 42.5232, 32.2316, 36.5197, 35.0995, 41.2706, 34.8307, 31.6062, 34.2067, 51.3474, 34.9414, 33.4236, 40.668, 55.6072, 32.5854, 32.9242, 33.9243, 35.3456, 39.2237, 38.2611, 40.2797, 45.1858, 53.4989, 68.3122, 31.3719, 32.2623, 31.5946, 31.5174, 32.2715, 34.9333, 35.5953, 36.8578, 40.804, 47.8689, 61.698, 32.8089, 32.5417, 32.8406, 35.1791, 35.0899, 36.5148, 38.4767, 41.143, 47.8431, 31.6747, 31.8447, 34.2251, 33.8859, 39.314, 48.2769]\n"
          ]
        }
      ]
    },
    {
      "cell_type": "markdown",
      "source": [
        "### Decide on an approach to handle these outliers (e.g., remove, replace, or retain) and justify your decision in a markdown cell."
      ],
      "metadata": {
        "id": "PINdhQwhBCuA"
      }
    },
    {
      "cell_type": "markdown",
      "source": [
        "#### I would retain the outliers because they represent important, although few events involving spikes in mortality - whether across different states or age groups"
      ],
      "metadata": {
        "id": "--ltTh1kEmRH"
      }
    },
    {
      "cell_type": "markdown",
      "source": [
        "## Automated Analysis"
      ],
      "metadata": {
        "id": "3d4PumlOQsJT"
      }
    },
    {
      "cell_type": "markdown",
      "source": [
        "### Automated Analysis using Pandas Profiling"
      ],
      "metadata": {
        "id": "JmA6FlpFWLuS"
      }
    },
    {
      "cell_type": "code",
      "source": [
        "report = ProfileReport(df)\n",
        "report.to_file('eda_reportHHA507.html')"
      ],
      "metadata": {
        "colab": {
          "base_uri": "https://localhost:8080/",
          "height": 0,
          "referenced_widgets": [
            "bf3d2bc1afde467a8cd263d6b86d0928",
            "cdced4addcfd41faa3afdbab4646ac0c",
            "6ed17a84f5df49d3b43bc1bf5d9c64a2",
            "f563b5dc1a97498f89fd7c378ee4c026",
            "0028d13a7ff44655aa6201e2588bd362",
            "1a051f6aff8d43f7a965b2068c890c1e",
            "22b85978dfbd4f8c9eccba8c8294f20a",
            "42f33de6c80743788428819e0e4f902d",
            "91cb950f434d4e41aea10157c970673d",
            "ef868accf2744807bd99c8e9d8524284",
            "842fba9ce18d43afbdb43072c5919553",
            "f2b07d2e87a54db4a447216b453069f7",
            "198b70d2159b473181f061999dc2c842",
            "ca168b55ace04cb99b6e66b9e54ece42",
            "15c43f5ef7cb4c46b2e9e93dcfda504a",
            "e6b478fc2a594282bb673b698c81eac2",
            "34b07a7261dc4856b1fec00260d5031c",
            "2d918cb8bec549ceb79d1128737f779e",
            "bf7e9a940d7c4e39944983ff66cd91f8",
            "6c1dd4ea9cb24327a4760daddd3af502",
            "fe340a7c04a845379d13b1df28f45197",
            "e7f5944aafd542e8974c3dc8d829c14f",
            "a58b5500ce224dfe8bbbe680eb6c6104",
            "dc317e92bae84f478b9703f2b67ed1a8",
            "6f4746fcaf6542189d1d5b97a66b7fac",
            "ff0f651f61b64c4aab8aa190cbc0e709",
            "ee4604c4c19344c8bacb014d4d288286",
            "4893f7d030dd4f45b437976ef749ffe3",
            "aedd51d1b2334fc099c48bfd0bc12da3",
            "ca225cf563234129b0c20b2661648fb4",
            "887d19bce2694d92aa78606f2305864f",
            "ec95b6502d114de18873365ead8506b6",
            "2ee27ee5ebe745a0950931f98f18fd0f",
            "89c05b3c30d84640be9886383e391a95",
            "3cffd634292d4af59da74a012fd6b803",
            "0cd2b12e6a4740d38347351c4cdb1087",
            "cec4386fbb5e403984eb83ebf4e17aea",
            "8dbefacd2d7546e3bec3a5d373fcfc70",
            "d8c30b1796af4e7e9a5e9585146bbe35",
            "9672133e9d6341fdb401acf1943bb0db",
            "af358aecec844303b0b7194902fcbee7",
            "217e5ea13ead40dfbb51da2909d3ac2e",
            "980061ce80734abbafbc54bca71cfe60",
            "df7cf21ba62844cc98dca093c278ebe4"
          ]
        },
        "id": "bONuVSgaWdD2",
        "outputId": "33674341-17a9-4ab2-cec6-62649ed4e369"
      },
      "execution_count": 34,
      "outputs": [
        {
          "output_type": "display_data",
          "data": {
            "text/plain": [
              "Summarize dataset:   0%|          | 0/5 [00:00<?, ?it/s]"
            ],
            "application/vnd.jupyter.widget-view+json": {
              "version_major": 2,
              "version_minor": 0,
              "model_id": "bf3d2bc1afde467a8cd263d6b86d0928"
            }
          },
          "metadata": {}
        },
        {
          "output_type": "display_data",
          "data": {
            "text/plain": [
              "Generate report structure:   0%|          | 0/1 [00:00<?, ?it/s]"
            ],
            "application/vnd.jupyter.widget-view+json": {
              "version_major": 2,
              "version_minor": 0,
              "model_id": "f2b07d2e87a54db4a447216b453069f7"
            }
          },
          "metadata": {}
        },
        {
          "output_type": "display_data",
          "data": {
            "text/plain": [
              "Render HTML:   0%|          | 0/1 [00:00<?, ?it/s]"
            ],
            "application/vnd.jupyter.widget-view+json": {
              "version_major": 2,
              "version_minor": 0,
              "model_id": "a58b5500ce224dfe8bbbe680eb6c6104"
            }
          },
          "metadata": {}
        },
        {
          "output_type": "display_data",
          "data": {
            "text/plain": [
              "Export report to file:   0%|          | 0/1 [00:00<?, ?it/s]"
            ],
            "application/vnd.jupyter.widget-view+json": {
              "version_major": 2,
              "version_minor": 0,
              "model_id": "89c05b3c30d84640be9886383e391a95"
            }
          },
          "metadata": {}
        }
      ]
    }
  ]
}