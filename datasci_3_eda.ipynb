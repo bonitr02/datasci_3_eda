{
  "nbformat": 4,
  "nbformat_minor": 0,
  "metadata": {
    "colab": {
      "provenance": [],
      "collapsed_sections": [
        "d_wNls9RzRKz",
        "VaquyDyERT_Y"
      ],
      "authorship_tag": "ABX9TyNUl/tGc1EClCfJXxNGSE3c",
      "include_colab_link": true
    },
    "kernelspec": {
      "name": "python3",
      "display_name": "Python 3"
    },
    "language_info": {
      "name": "python"
    }
  },
  "cells": [
    {
      "cell_type": "markdown",
      "metadata": {
        "id": "view-in-github",
        "colab_type": "text"
      },
      "source": [
        "<a href=\"https://colab.research.google.com/github/bonitr02/datasci_3_eda/blob/main/datasci_3_eda.ipynb\" target=\"_parent\"><img src=\"https://colab.research.google.com/assets/colab-badge.svg\" alt=\"Open In Colab\"/></a>"
      ]
    },
    {
      "cell_type": "markdown",
      "source": [
        "# Week 3: Exploratory Data Analysis (EDA)"
      ],
      "metadata": {
        "id": "MVU8EQe3QgMH"
      }
    },
    {
      "cell_type": "markdown",
      "source": [
        "## Loading packages"
      ],
      "metadata": {
        "id": "d_wNls9RzRKz"
      }
    },
    {
      "cell_type": "code",
      "source": [
        "import pandas as pd\n",
        "import seaborn as sns\n",
        "import plotly as plt"
      ],
      "metadata": {
        "id": "fnSCTrDZzhJh"
      },
      "execution_count": 1,
      "outputs": []
    },
    {
      "cell_type": "markdown",
      "source": [
        "## Importing dataset"
      ],
      "metadata": {
        "id": "VaquyDyERT_Y"
      }
    },
    {
      "cell_type": "code",
      "source": [
        "df = pd.read_csv('/content/COVID19VaccinationDemographics.csv')"
      ],
      "metadata": {
        "id": "rF8M0_tGRYQi"
      },
      "execution_count": 2,
      "outputs": []
    },
    {
      "cell_type": "markdown",
      "source": [
        "##Univariate Analysis"
      ],
      "metadata": {
        "id": "XNVSeBdnQlKS"
      }
    },
    {
      "cell_type": "code",
      "source": [],
      "metadata": {
        "id": "RFeA9Jt6Rgqb"
      },
      "execution_count": null,
      "outputs": []
    },
    {
      "cell_type": "markdown",
      "source": [
        "## Bivariate Analysis"
      ],
      "metadata": {
        "id": "eia4h816Qn-G"
      }
    },
    {
      "cell_type": "markdown",
      "source": [
        "## Handling Outliers"
      ],
      "metadata": {
        "id": "3PElPn9FQqRE"
      }
    },
    {
      "cell_type": "markdown",
      "source": [
        "## Automated Analysis"
      ],
      "metadata": {
        "id": "3d4PumlOQsJT"
      }
    }
  ]
}